{
 "cells": [
  {
   "cell_type": "code",
   "execution_count": 1,
   "metadata": {},
   "outputs": [
    {
     "data": {
      "text/html": [
       "<div>\n",
       "<style scoped>\n",
       "    .dataframe tbody tr th:only-of-type {\n",
       "        vertical-align: middle;\n",
       "    }\n",
       "\n",
       "    .dataframe tbody tr th {\n",
       "        vertical-align: top;\n",
       "    }\n",
       "\n",
       "    .dataframe thead th {\n",
       "        text-align: right;\n",
       "    }\n",
       "</style>\n",
       "<table border=\"1\" class=\"dataframe\">\n",
       "  <thead>\n",
       "    <tr style=\"text-align: right;\">\n",
       "      <th></th>\n",
       "      <th>Date</th>\n",
       "      <th>China</th>\n",
       "      <th>France</th>\n",
       "      <th>Germany</th>\n",
       "      <th>Italy</th>\n",
       "      <th>Kazakhstan</th>\n",
       "      <th>Russia</th>\n",
       "      <th>Spain</th>\n",
       "      <th>USA</th>\n",
       "    </tr>\n",
       "  </thead>\n",
       "  <tbody>\n",
       "    <tr>\n",
       "      <th>0</th>\n",
       "      <td>2004</td>\n",
       "      <td>10.2</td>\n",
       "      <td>2.8</td>\n",
       "      <td>1.2</td>\n",
       "      <td>1.4</td>\n",
       "      <td>9.6</td>\n",
       "      <td>7.2</td>\n",
       "      <td>3.1</td>\n",
       "      <td>3.8</td>\n",
       "    </tr>\n",
       "    <tr>\n",
       "      <th>1</th>\n",
       "      <td>2005</td>\n",
       "      <td>11.4</td>\n",
       "      <td>1.7</td>\n",
       "      <td>0.7</td>\n",
       "      <td>0.8</td>\n",
       "      <td>9.7</td>\n",
       "      <td>6.4</td>\n",
       "      <td>3.7</td>\n",
       "      <td>3.5</td>\n",
       "    </tr>\n",
       "    <tr>\n",
       "      <th>2</th>\n",
       "      <td>2006</td>\n",
       "      <td>12.7</td>\n",
       "      <td>2.4</td>\n",
       "      <td>3.8</td>\n",
       "      <td>1.8</td>\n",
       "      <td>10.7</td>\n",
       "      <td>8.2</td>\n",
       "      <td>4.1</td>\n",
       "      <td>2.9</td>\n",
       "    </tr>\n",
       "    <tr>\n",
       "      <th>3</th>\n",
       "      <td>2007</td>\n",
       "      <td>14.3</td>\n",
       "      <td>2.4</td>\n",
       "      <td>3.0</td>\n",
       "      <td>1.5</td>\n",
       "      <td>8.9</td>\n",
       "      <td>8.5</td>\n",
       "      <td>3.6</td>\n",
       "      <td>1.9</td>\n",
       "    </tr>\n",
       "    <tr>\n",
       "      <th>4</th>\n",
       "      <td>2008</td>\n",
       "      <td>9.7</td>\n",
       "      <td>0.3</td>\n",
       "      <td>1.0</td>\n",
       "      <td>-1.0</td>\n",
       "      <td>3.3</td>\n",
       "      <td>5.2</td>\n",
       "      <td>0.9</td>\n",
       "      <td>-0.1</td>\n",
       "    </tr>\n",
       "  </tbody>\n",
       "</table>\n",
       "</div>"
      ],
      "text/plain": [
       "   Date  China  France  Germany  Italy  Kazakhstan  Russia  Spain  USA\n",
       "0  2004   10.2     2.8      1.2    1.4         9.6     7.2    3.1  3.8\n",
       "1  2005   11.4     1.7      0.7    0.8         9.7     6.4    3.7  3.5\n",
       "2  2006   12.7     2.4      3.8    1.8        10.7     8.2    4.1  2.9\n",
       "3  2007   14.3     2.4      3.0    1.5         8.9     8.5    3.6  1.9\n",
       "4  2008    9.7     0.3      1.0   -1.0         3.3     5.2    0.9 -0.1"
      ]
     },
     "execution_count": 1,
     "metadata": {},
     "output_type": "execute_result"
    }
   ],
   "source": [
    "# импорт модулей\n",
    "import pandas as pd\n",
    "import numpy as np\n",
    "import statsmodels.api as sm\n",
    "import matplotlib.pyplot as plt \n",
    "%matplotlib inline\n",
    "\n",
    "# читаем набор данных\n",
    "data = pd.read_excel('C:\\\\Trash\\\\Programming\\\\gdpGROWTH.xls')\n",
    "\n",
    "data.head()"
   ]
  },
  {
   "cell_type": "code",
   "execution_count": 3,
   "metadata": {},
   "outputs": [
    {
     "data": {
      "image/png": "[encoded data removed]",
      "text/plain": [
       "<Figure size 432x288 with 1 Axes>"
      ]
     },
     "metadata": {
      "needs_background": "light"
     },
     "output_type": "display_data"
    }
   ],
   "source": [
    "data_x = data['Date']\n",
    "data_y = data['Kazakhstan']\n",
    "\n",
    "# делим набор данных на обучающую и тестовую выборки\n",
    "from sklearn.model_selection import train_test_split\n",
    "train_x, valid_x, train_y, valid_y = train_test_split(data_x, data_y, test_size=0.33, random_state = 1)\n",
    "\n",
    "# Визуализируем отношения возраста и заработной платы\n",
    "import matplotlib.pyplot as plt\n",
    "plt.scatter(train_x, train_y, facecolor='None', edgecolor='k', alpha=0.3)\n",
    "plt.show()\n"
   ]
  },
  {
   "cell_type": "code",
   "execution_count": 5,
   "metadata": {},
   "outputs": [
    {
     "name": "stdout",
     "output_type": "stream",
     "text": [
      "[-0.44973483]\n",
      "909.061756040071\n"
     ]
    }
   ],
   "source": [
    "from sklearn.linear_model import LinearRegression\n",
    "\n",
    "# обучаем модель регрессии\n",
    "x = train_x.values.reshape(-1,1)\n",
    "model = LinearRegression()\n",
    "model.fit(x,train_y)\n",
    "print(model.coef_)\n",
    "print(model.intercept_)"
   ]
  },
  {
   "cell_type": "code",
   "execution_count": 12,
   "metadata": {},
   "outputs": [
    {
     "data": {
      "image/png": "[encoded data removed]",
      "text/plain": [
       "<Figure size 432x288 with 1 Axes>"
      ]
     },
     "metadata": {
      "needs_background": "light"
     },
     "output_type": "display_data"
    }
   ],
   "source": [
    "# Прогноз на тестовой выборке\n",
    "valid_x = valid_x.reshape(-1,1)\n",
    "pred = model.predict(valid_x)\n",
    "\n",
    "# Визуализация\n",
    "# Мы будем использовать 70 точек valid_x\n",
    "xp = np.linspace(valid_x.min(),valid_x.max(),70)\n",
    "xp = xp.reshape(-1,1)\n",
    "pred_plot = model.predict(xp)\n",
    "\n",
    "plt.scatter(valid_x, valid_y, facecolor='None', edgecolor='k', alpha=0.3)\n",
    "plt.plot(xp, pred_plot)\n",
    "plt.show()"
   ]
  },
  {
   "cell_type": "code",
   "execution_count": 13,
   "metadata": {},
   "outputs": [
    {
     "name": "stdout",
     "output_type": "stream",
     "text": [
      "2.5307356333557207\n"
     ]
    }
   ],
   "source": [
    "from sklearn.metrics import mean_squared_error\n",
    "from math import sqrt\n",
    "\n",
    "rms = sqrt(mean_squared_error(valid_y, pred))\n",
    "print(rms)"
   ]
  },
  {
   "cell_type": "code",
   "execution_count": 17,
   "metadata": {},
   "outputs": [
    {
     "name": "stdout",
     "output_type": "stream",
     "text": [
      "[ 2.97584980e-02 -1.20199649e+02  1.21378359e+05]\n"
     ]
    },
    {
     "data": {
      "image/png": "[encoded data removed]",
      "text/plain": [
       "<Figure size 432x288 with 1 Axes>"
      ]
     },
     "metadata": {
      "needs_background": "light"
     },
     "output_type": "display_data"
    }
   ],
   "source": [
    "# Генерируем веса для полиномиальной функции степени 2\n",
    "weights = np.polyfit(train_x, train_y, 2)\n",
    "print(weights)\n",
    "\n",
    "# Генерируем модель с данными весами\n",
    "model = np.poly1d(weights)\n",
    "\n",
    "# Прогноз на тестовой выборке\n",
    "pred = model(valid_x)\n",
    "# Строим график только для 70 наблюдений\n",
    "xp = np.linspace(valid_x.min(),valid_x.max(),70)\n",
    "pred_plot = model(xp)\n",
    "plt.scatter(valid_x, valid_y, facecolor='None', edgecolor='k', alpha=0.3)\n",
    "plt.plot(xp, pred_plot)\n",
    "plt.show()"
   ]
  },
  {
   "cell_type": "code",
   "execution_count": 18,
   "metadata": {},
   "outputs": [
    {
     "data": {
      "text/plain": [
       "(2003.984, 2008.0]    3\n",
       "(2008.0, 2012.0]      2\n",
       "(2012.0, 2016.0]      3\n",
       "(2016.0, 2020.0]      3\n",
       "Name: Date, dtype: int64"
      ]
     },
     "execution_count": 18,
     "metadata": {},
     "output_type": "execute_result"
    }
   ],
   "source": [
    "# Делим данные на 4 интервала\n",
    "df_cut, bins = pd.cut(train_x, 4, retbins=True, right=True)\n",
    "df_cut.value_counts(sort=False)"
   ]
  },
  {
   "cell_type": "code",
   "execution_count": 19,
   "metadata": {},
   "outputs": [
    {
     "data": {
      "text/plain": [
       "    (2003.984, 2008.0]  (2008.0, 2012.0]  (2012.0, 2016.0]  (2016.0, 2020.0]\n",
       "4                    1                 0                 0                 0\n",
       "1                    1                 0                 0                 0\n",
       "14                   0                 0                 0                 1\n",
       "0                    1                 0                 0                 0\n",
       "16                   0                 0                 0                 1"
      ]
     },
     "execution_count": 19,
     "metadata": {},
     "output_type": "execute_result"
    }
   ],
   "source": [
    "df_steps = pd.concat([train_x, df_cut, train_y], keys=['Date','Date_cuts','Kazakhstan'], axis=1)\n",
    "\n",
    "# Создаем фиктивные переменные для возрастных групп\n",
    "df_steps_dummies = pd.get_dummies(df_cut)\n",
    "df_steps_dummies.head()"
   ]
  },
  {
   "cell_type": "code",
   "execution_count": 24,
   "metadata": {},
   "outputs": [],
   "source": [
    "df_steps_dummies.columns = ['2003.984-2008.0','2008.0-2012.0','2012.0-2016.0','2016.0-2020.0'] \n",
    "\n",
    "# Подгоняем обобщенные линейные модели\n",
    "fit3 = sm.GLM(df_steps.Kazakhstan, df_steps_dummies).fit()"
   ]
  },
  {
   "cell_type": "code",
   "execution_count": 33,
   "metadata": {},
   "outputs": [],
   "source": [
    "# Разделяем тестовую выборку на 4 интервала\n",
    "bin_mapping = np.digitize(valid_x, bins) \n",
    "bin_mapping1 = bin_mapping.flatten() \n",
    "X_valid = pd.get_dummies(bin_mapping1)"
   ]
  },
  {
   "cell_type": "code",
   "execution_count": 36,
   "metadata": {},
   "outputs": [
    {
     "data": {
      "text/html": [
       "<div>\n",
       "<style scoped>\n",
       "    .dataframe tbody tr th:only-of-type {\n",
       "        vertical-align: middle;\n",
       "    }\n",
       "\n",
       "    .dataframe tbody tr th {\n",
       "        vertical-align: top;\n",
       "    }\n",
       "\n",
       "    .dataframe thead th {\n",
       "        text-align: right;\n",
       "    }\n",
       "</style>\n",
       "<table border=\"1\" class=\"dataframe\">\n",
       "  <thead>\n",
       "    <tr style=\"text-align: right;\">\n",
       "      <th></th>\n",
       "      <th>1</th>\n",
       "      <th>2</th>\n",
       "      <th>3</th>\n",
       "      <th>4</th>\n",
       "    </tr>\n",
       "  </thead>\n",
       "  <tbody>\n",
       "    <tr>\n",
       "      <th>0</th>\n",
       "      <td>1</td>\n",
       "      <td>0</td>\n",
       "      <td>0</td>\n",
       "      <td>0</td>\n",
       "    </tr>\n",
       "    <tr>\n",
       "      <th>1</th>\n",
       "      <td>0</td>\n",
       "      <td>0</td>\n",
       "      <td>0</td>\n",
       "      <td>1</td>\n",
       "    </tr>\n",
       "    <tr>\n",
       "      <th>2</th>\n",
       "      <td>0</td>\n",
       "      <td>1</td>\n",
       "      <td>0</td>\n",
       "      <td>0</td>\n",
       "    </tr>\n",
       "    <tr>\n",
       "      <th>3</th>\n",
       "      <td>1</td>\n",
       "      <td>0</td>\n",
       "      <td>0</td>\n",
       "      <td>0</td>\n",
       "    </tr>\n",
       "    <tr>\n",
       "      <th>4</th>\n",
       "      <td>0</td>\n",
       "      <td>1</td>\n",
       "      <td>0</td>\n",
       "      <td>0</td>\n",
       "    </tr>\n",
       "    <tr>\n",
       "      <th>5</th>\n",
       "      <td>0</td>\n",
       "      <td>0</td>\n",
       "      <td>1</td>\n",
       "      <td>0</td>\n",
       "    </tr>\n",
       "  </tbody>\n",
       "</table>\n",
       "</div>"
      ],
      "text/plain": [
       "   1  2  3  4\n",
       "0  1  0  0  0\n",
       "1  0  0  0  1\n",
       "2  0  1  0  0\n",
       "3  1  0  0  0\n",
       "4  0  1  0  0\n",
       "5  0  0  1  0"
      ]
     },
     "execution_count": 36,
     "metadata": {},
     "output_type": "execute_result"
    }
   ],
   "source": [
    "# Удаляем выбросы\n",
    "X_valid\n",
    "#X_valid = pd.get_dummies(bin_mapping1).drop([5], axis=1)"
   ]
  },
  {
   "cell_type": "code",
   "execution_count": 37,
   "metadata": {},
   "outputs": [
    {
     "name": "stdout",
     "output_type": "stream",
     "text": [
      "3.0569895624920256\n"
     ]
    }
   ],
   "source": [
    "# Прогноз\n",
    "pred2 = fit3.predict(X_valid)\n",
    "\n",
    "# Рассчитываем RMSE\n",
    "from sklearn.metrics import mean_squared_error \n",
    "from math import sqrt \n",
    "rms = sqrt(mean_squared_error(valid_y, pred2)) \n",
    "print(rms) \n",
    "\n",
    "# Строим график только для 70 наблюдений\n",
    "xp = np.linspace(valid_x.min(),valid_x.max()-1,70) \n",
    "bin_mapping = np.digitize(xp, bins) \n",
    "X_valid_2 = pd.get_dummies(bin_mapping) \n",
    "pred2 = fit3.predict(X_valid_2)"
   ]
  },
  {
   "cell_type": "code",
   "execution_count": 38,
   "metadata": {},
   "outputs": [
    {
     "data": {
      "image/png": "[encoded data removed]",
      "text/plain": [
       "<Figure size 864x360 with 1 Axes>"
      ]
     },
     "metadata": {
      "needs_background": "light"
     },
     "output_type": "display_data"
    }
   ],
   "source": [
    "# Визуализация\n",
    "fig, (ax1) = plt.subplots(1,1, figsize=(12,5))\n",
    "fig.suptitle('Piecewise Constant', fontsize=14)\n",
    "\n",
    "# График рассеяния с кривой полиномиальной регрессии\n",
    "ax1.scatter(train_x, train_y, facecolor='None', edgecolor='k', alpha=0.3)\n",
    "ax1.plot(xp, pred2, c='b')\n",
    "\n",
    "ax1.set_xlabel('Date')\n",
    "ax1.set_ylabel('Kazakhstan')\n",
    "plt.show()"
   ]
  },
  {
   "cell_type": "code",
   "execution_count": 53,
   "metadata": {},
   "outputs": [],
   "source": [
    "# Visualizing the Linear Regression results\n",
    "def viz_linear(x,y):\n",
    "    plt.scatter(x, y, color='red')\n",
    "    plt.plot(xp, pred2, color='blue')\n",
    "    plt.title('Truth or Bluff (Linear Regression)')\n",
    "    plt.xlabel('GDP per Year')\n",
    "    plt.ylabel('Date')\n",
    "    plt.show()\n",
    "    return"
   ]
  },
  {
   "cell_type": "code",
   "execution_count": 56,
   "metadata": {},
   "outputs": [
    {
     "data": {
      "image/png": "[encoded data removed]",
      "text/plain": [
       "<Figure size 432x288 with 1 Axes>"
      ]
     },
     "metadata": {
      "needs_background": "light"
     },
     "output_type": "display_data"
    },
    {
     "data": {
      "image/png": "[encoded data removed]",
      "text/plain": [
       "<Figure size 432x288 with 1 Axes>"
      ]
     },
     "metadata": {
      "needs_background": "light"
     },
     "output_type": "display_data"
    },
    {
     "data": {
      "image/png": "[encoded data removed]",
      "text/plain": [
       "<Figure size 432x288 with 1 Axes>"
      ]
     },
     "metadata": {
      "needs_background": "light"
     },
     "output_type": "display_data"
    }
   ],
   "source": [
    "viz_linear(data[['Date']],data[['Kazakhstan']])\n",
    "viz_linear(data[['Date']],data[['France']])\n",
    "viz_linear(data[['Date']],data[['China']])"
   ]
  },
  {
   "cell_type": "code",
   "execution_count": 60,
   "metadata": {},
   "outputs": [
    {
     "name": "stdout",
     "output_type": "stream",
     "text": [
      "Kazakhstan gpd in 2021 =  -1.3558825179934502\n",
      "China gpd in 2021 =  2.858823448419571\n",
      "France gpd in 2021 =  -6.755882382392883\n",
      "Italy gpd in 2021 =  -4.957353100180626\n",
      "USA gpd in 2021 =  -3.841176375746727\n",
      "Russia gpd in 2021 =  -1.285294309258461\n",
      "Spain gpd in 2021 =  -6.68235319852829\n",
      "Germany gpd in 2021 =  -6.383823662996292\n"
     ]
    }
   ],
   "source": [
    "import numpy\n",
    "from sklearn.metrics import r2_score\n",
    "kz = numpy.poly1d(numpy.polyfit(data['Date'],data['Kazakhstan'], 3))\n",
    "ch = numpy.poly1d(numpy.polyfit(data['Date'],data['China'], 3))\n",
    "fra = numpy.poly1d(numpy.polyfit(data['Date'],data['France'], 3))\n",
    "ita = numpy.poly1d(numpy.polyfit(data['Date'],data['Italy'], 3))\n",
    "usa = numpy.poly1d(numpy.polyfit(data['Date'],data['USA'], 3))\n",
    "rus = numpy.poly1d(numpy.polyfit(data['Date'],data['Russia'], 3))\n",
    "sp = numpy.poly1d(numpy.polyfit(data['Date'],data['Spain'], 3))\n",
    "ger = numpy.poly1d(numpy.polyfit(data['Date'],data['Germany'], 3))\n",
    "gdp = kz(2021)\n",
    "gdp1 = ch(2021)\n",
    "gdp2 = ita(2021)\n",
    "gdp3 = fra(2021)\n",
    "gdp4 = usa(2021)\n",
    "gdp5 = rus(2021)\n",
    "gdp6 = sp(2021)\n",
    "gdp7 = ger(2021)\n",
    "print(\"Kazakhstan gpd in 2021 = \", gdp)\n",
    "print(\"China gpd in 2021 = \",gdp1)\n",
    "print(\"France gpd in 2021 = \",gdp2)\n",
    "print(\"Italy gpd in 2021 = \",gdp3)\n",
    "print(\"USA gpd in 2021 = \",gdp4)\n",
    "print(\"Russia gpd in 2021 = \",gdp5)\n",
    "print(\"Spain gpd in 2021 = \",gdp6)\n",
    "print(\"Germany gpd in 2021 = \",gdp7)"
   ]
  }
 ],
 "metadata": {
  "kernelspec": {
   "display_name": "Python 3",
   "language": "python",
   "name": "python3"
  },
  "language_info": {
   "codemirror_mode": {
    "name": "ipython",
    "version": 3
   },
   "file_extension": ".py",
   "mimetype": "text/x-python",
   "name": "python",
   "nbconvert_exporter": "python",
   "pygments_lexer": "ipython3",
   "version": "3.7.3"
  }
 },
 "nbformat": 4,
 "nbformat_minor": 2
}
