{
 "cells": [
  {
   "cell_type": "code",
   "execution_count": 1,
   "metadata": {},
   "outputs": [],
   "source": [
    "import numpy as np\n",
    "import pandas as pd \n",
    "import seaborn as sns\n",
    "import random\n",
    "import math\n",
    "import time\n",
    "import matplotlib.pyplot as plt\n",
    "import matplotlib.dates as mdates\n",
    "import matplotlib.colors as mcolors\n",
    "import plotly.express as px\n",
    "import plotly.offline as py\n",
    "import plotly.figure_factory as ff\n",
    "import plotly.graph_objects as go\n"
   ]
  },
  {
   "cell_type": "code",
   "execution_count": 2,
   "metadata": {},
   "outputs": [],
   "source": [
    "dataset = pd.read_excel('gdpGROWTH.xls')"
   ]
  },
  {
   "cell_type": "code",
   "execution_count": 3,
   "metadata": {},
   "outputs": [],
   "source": [
    "dataset2 = pd.read_excel('gdp2.xlsx')"
   ]
  },
  {
   "cell_type": "code",
   "execution_count": 4,
   "metadata": {},
   "outputs": [
    {
     "data": {
      "text/html": [
       "<div>\n",
       "<style scoped>\n",
       "    .dataframe tbody tr th:only-of-type {\n",
       "        vertical-align: middle;\n",
       "    }\n",
       "\n",
       "    .dataframe tbody tr th {\n",
       "        vertical-align: top;\n",
       "    }\n",
       "\n",
       "    .dataframe thead th {\n",
       "        text-align: right;\n",
       "    }\n",
       "</style>\n",
       "<table border=\"1\" class=\"dataframe\">\n",
       "  <thead>\n",
       "    <tr style=\"text-align: right;\">\n",
       "      <th></th>\n",
       "      <th>Date</th>\n",
       "      <th>China</th>\n",
       "      <th>France</th>\n",
       "      <th>Germany</th>\n",
       "      <th>Italy</th>\n",
       "      <th>Kazakhstan</th>\n",
       "      <th>Russian Federation</th>\n",
       "      <th>Spain</th>\n",
       "      <th>Turkey</th>\n",
       "      <th>United States</th>\n",
       "    </tr>\n",
       "  </thead>\n",
       "  <tbody>\n",
       "    <tr>\n",
       "      <th>0</th>\n",
       "      <td>2004</td>\n",
       "      <td>10.2</td>\n",
       "      <td>2.8</td>\n",
       "      <td>1.2</td>\n",
       "      <td>1.4</td>\n",
       "      <td>9.6</td>\n",
       "      <td>7.2</td>\n",
       "      <td>3.1</td>\n",
       "      <td>9.6</td>\n",
       "      <td>3.8</td>\n",
       "    </tr>\n",
       "    <tr>\n",
       "      <th>1</th>\n",
       "      <td>2005</td>\n",
       "      <td>11.4</td>\n",
       "      <td>1.7</td>\n",
       "      <td>0.7</td>\n",
       "      <td>0.8</td>\n",
       "      <td>9.7</td>\n",
       "      <td>6.4</td>\n",
       "      <td>3.7</td>\n",
       "      <td>9.0</td>\n",
       "      <td>3.5</td>\n",
       "    </tr>\n",
       "    <tr>\n",
       "      <th>2</th>\n",
       "      <td>2006</td>\n",
       "      <td>12.7</td>\n",
       "      <td>2.4</td>\n",
       "      <td>3.8</td>\n",
       "      <td>1.8</td>\n",
       "      <td>10.7</td>\n",
       "      <td>8.2</td>\n",
       "      <td>4.1</td>\n",
       "      <td>7.1</td>\n",
       "      <td>2.9</td>\n",
       "    </tr>\n",
       "    <tr>\n",
       "      <th>3</th>\n",
       "      <td>2007</td>\n",
       "      <td>14.3</td>\n",
       "      <td>2.4</td>\n",
       "      <td>3.0</td>\n",
       "      <td>1.5</td>\n",
       "      <td>8.9</td>\n",
       "      <td>8.5</td>\n",
       "      <td>3.6</td>\n",
       "      <td>5.0</td>\n",
       "      <td>1.9</td>\n",
       "    </tr>\n",
       "    <tr>\n",
       "      <th>4</th>\n",
       "      <td>2008</td>\n",
       "      <td>9.7</td>\n",
       "      <td>0.3</td>\n",
       "      <td>1.0</td>\n",
       "      <td>-1.0</td>\n",
       "      <td>3.3</td>\n",
       "      <td>5.2</td>\n",
       "      <td>0.9</td>\n",
       "      <td>0.8</td>\n",
       "      <td>-0.1</td>\n",
       "    </tr>\n",
       "  </tbody>\n",
       "</table>\n",
       "</div>"
      ],
      "text/plain": [
       "   Date  China  France  Germany  Italy  Kazakhstan  Russian Federation  Spain  \\\n",
       "0  2004   10.2     2.8      1.2    1.4         9.6                 7.2    3.1   \n",
       "1  2005   11.4     1.7      0.7    0.8         9.7                 6.4    3.7   \n",
       "2  2006   12.7     2.4      3.8    1.8        10.7                 8.2    4.1   \n",
       "3  2007   14.3     2.4      3.0    1.5         8.9                 8.5    3.6   \n",
       "4  2008    9.7     0.3      1.0   -1.0         3.3                 5.2    0.9   \n",
       "\n",
       "   Turkey  United States  \n",
       "0     9.6            3.8  \n",
       "1     9.0            3.5  \n",
       "2     7.1            2.9  \n",
       "3     5.0            1.9  \n",
       "4     0.8           -0.1  "
      ]
     },
     "execution_count": 4,
     "metadata": {},
     "output_type": "execute_result"
    }
   ],
   "source": [
    "dataset.head()"
   ]
  },
  {
   "cell_type": "code",
   "execution_count": 54,
   "metadata": {},
   "outputs": [],
   "source": [
    "dataset3 = pd.read_excel('gdp1.xlsx')"
   ]
  },
  {
   "cell_type": "code",
   "execution_count": 55,
   "metadata": {},
   "outputs": [
    {
     "data": {
      "text/html": [
       "<div>\n",
       "<style scoped>\n",
       "    .dataframe tbody tr th:only-of-type {\n",
       "        vertical-align: middle;\n",
       "    }\n",
       "\n",
       "    .dataframe tbody tr th {\n",
       "        vertical-align: top;\n",
       "    }\n",
       "\n",
       "    .dataframe thead th {\n",
       "        text-align: right;\n",
       "    }\n",
       "</style>\n",
       "<table border=\"1\" class=\"dataframe\">\n",
       "  <thead>\n",
       "    <tr style=\"text-align: right;\">\n",
       "      <th></th>\n",
       "      <th>Country</th>\n",
       "      <th>after</th>\n",
       "      <th>before</th>\n",
       "    </tr>\n",
       "  </thead>\n",
       "  <tbody>\n",
       "    <tr>\n",
       "      <th>0</th>\n",
       "      <td>China</td>\n",
       "      <td>1.0</td>\n",
       "      <td>5.9</td>\n",
       "    </tr>\n",
       "    <tr>\n",
       "      <th>1</th>\n",
       "      <td>Germany</td>\n",
       "      <td>-6.0</td>\n",
       "      <td>0.9</td>\n",
       "    </tr>\n",
       "    <tr>\n",
       "      <th>2</th>\n",
       "      <td>France</td>\n",
       "      <td>-5.0</td>\n",
       "      <td>1.0</td>\n",
       "    </tr>\n",
       "    <tr>\n",
       "      <th>3</th>\n",
       "      <td>Italy</td>\n",
       "      <td>-7.0</td>\n",
       "      <td>0.4</td>\n",
       "    </tr>\n",
       "    <tr>\n",
       "      <th>4</th>\n",
       "      <td>Spain</td>\n",
       "      <td>-7.3</td>\n",
       "      <td>1.6</td>\n",
       "    </tr>\n",
       "  </tbody>\n",
       "</table>\n",
       "</div>"
      ],
      "text/plain": [
       "   Country  after  before\n",
       "0    China    1.0     5.9\n",
       "1  Germany   -6.0     0.9\n",
       "2   France   -5.0     1.0\n",
       "3    Italy   -7.0     0.4\n",
       "4    Spain   -7.3     1.6"
      ]
     },
     "execution_count": 55,
     "metadata": {},
     "output_type": "execute_result"
    }
   ],
   "source": [
    "dataset3.head()"
   ]
  },
  {
   "cell_type": "code",
   "execution_count": 27,
   "metadata": {},
   "outputs": [
    {
     "data": {
      "text/html": [
       "<div>\n",
       "<style scoped>\n",
       "    .dataframe tbody tr th:only-of-type {\n",
       "        vertical-align: middle;\n",
       "    }\n",
       "\n",
       "    .dataframe tbody tr th {\n",
       "        vertical-align: top;\n",
       "    }\n",
       "\n",
       "    .dataframe thead th {\n",
       "        text-align: right;\n",
       "    }\n",
       "</style>\n",
       "<table border=\"1\" class=\"dataframe\">\n",
       "  <thead>\n",
       "    <tr style=\"text-align: right;\">\n",
       "      <th></th>\n",
       "      <th>Date</th>\n",
       "      <th>Country</th>\n",
       "      <th>GDP</th>\n",
       "      <th>Gold</th>\n",
       "      <th>Oil</th>\n",
       "      <th>CPI</th>\n",
       "    </tr>\n",
       "  </thead>\n",
       "  <tbody>\n",
       "    <tr>\n",
       "      <th>0</th>\n",
       "      <td>2004</td>\n",
       "      <td>Kazakhstan</td>\n",
       "      <td>9.6</td>\n",
       "      <td>NaN</td>\n",
       "      <td>NaN</td>\n",
       "      <td>NaN</td>\n",
       "    </tr>\n",
       "    <tr>\n",
       "      <th>1</th>\n",
       "      <td>2005</td>\n",
       "      <td>Kazakhstan</td>\n",
       "      <td>9.7</td>\n",
       "      <td>NaN</td>\n",
       "      <td>NaN</td>\n",
       "      <td>NaN</td>\n",
       "    </tr>\n",
       "    <tr>\n",
       "      <th>2</th>\n",
       "      <td>2006</td>\n",
       "      <td>Kazakhstan</td>\n",
       "      <td>1.7</td>\n",
       "      <td>NaN</td>\n",
       "      <td>NaN</td>\n",
       "      <td>NaN</td>\n",
       "    </tr>\n",
       "    <tr>\n",
       "      <th>3</th>\n",
       "      <td>2007</td>\n",
       "      <td>Kazakhstan</td>\n",
       "      <td>8.9</td>\n",
       "      <td>NaN</td>\n",
       "      <td>NaN</td>\n",
       "      <td>NaN</td>\n",
       "    </tr>\n",
       "    <tr>\n",
       "      <th>4</th>\n",
       "      <td>2008</td>\n",
       "      <td>Kazakhstan</td>\n",
       "      <td>3.3</td>\n",
       "      <td>NaN</td>\n",
       "      <td>NaN</td>\n",
       "      <td>NaN</td>\n",
       "    </tr>\n",
       "  </tbody>\n",
       "</table>\n",
       "</div>"
      ],
      "text/plain": [
       "   Date     Country  GDP  Gold  Oil  CPI\n",
       "0  2004  Kazakhstan  9.6   NaN  NaN  NaN\n",
       "1  2005  Kazakhstan  9.7   NaN  NaN  NaN\n",
       "2  2006  Kazakhstan  1.7   NaN  NaN  NaN\n",
       "3  2007  Kazakhstan  8.9   NaN  NaN  NaN\n",
       "4  2008  Kazakhstan  3.3   NaN  NaN  NaN"
      ]
     },
     "execution_count": 27,
     "metadata": {},
     "output_type": "execute_result"
    }
   ],
   "source": [
    "dataset2.head()"
   ]
  },
  {
   "cell_type": "code",
   "execution_count": 28,
   "metadata": {},
   "outputs": [
    {
     "data": {
      "text/html": [
       "<style  type=\"text/css\" >\n",
       "    #T_58b16686_84ba_11ea_915e_185680f6e586row0_col0 {\n",
       "            background-color:  #fff7ec;\n",
       "            color:  #000000;\n",
       "        }    #T_58b16686_84ba_11ea_915e_185680f6e586row0_col1 {\n",
       "            background-color:  #e34b34;\n",
       "            color:  #000000;\n",
       "        }    #T_58b16686_84ba_11ea_915e_185680f6e586row0_col2 {\n",
       "            background-color:  #7f0000;\n",
       "            color:  #f1f1f1;\n",
       "        }    #T_58b16686_84ba_11ea_915e_185680f6e586row0_col3 {\n",
       "            background-color:  #da3724;\n",
       "            color:  #f1f1f1;\n",
       "        }    #T_58b16686_84ba_11ea_915e_185680f6e586row0_col4 {\n",
       "            background-color:  #8e0000;\n",
       "            color:  #f1f1f1;\n",
       "        }    #T_58b16686_84ba_11ea_915e_185680f6e586row0_col5 {\n",
       "            background-color:  #a10000;\n",
       "            color:  #f1f1f1;\n",
       "        }    #T_58b16686_84ba_11ea_915e_185680f6e586row0_col6 {\n",
       "            background-color:  #a00000;\n",
       "            color:  #f1f1f1;\n",
       "        }    #T_58b16686_84ba_11ea_915e_185680f6e586row0_col7 {\n",
       "            background-color:  #a10000;\n",
       "            color:  #f1f1f1;\n",
       "        }    #T_58b16686_84ba_11ea_915e_185680f6e586row0_col8 {\n",
       "            background-color:  #a50000;\n",
       "            color:  #f1f1f1;\n",
       "        }    #T_58b16686_84ba_11ea_915e_185680f6e586row0_col9 {\n",
       "            background-color:  #7f0000;\n",
       "            color:  #f1f1f1;\n",
       "        }    #T_58b16686_84ba_11ea_915e_185680f6e586row1_col0 {\n",
       "            background-color:  #feefda;\n",
       "            color:  #000000;\n",
       "        }    #T_58b16686_84ba_11ea_915e_185680f6e586row1_col1 {\n",
       "            background-color:  #ce2417;\n",
       "            color:  #f1f1f1;\n",
       "        }    #T_58b16686_84ba_11ea_915e_185680f6e586row1_col2 {\n",
       "            background-color:  #ad0000;\n",
       "            color:  #f1f1f1;\n",
       "        }    #T_58b16686_84ba_11ea_915e_185680f6e586row1_col3 {\n",
       "            background-color:  #e24933;\n",
       "            color:  #f1f1f1;\n",
       "        }    #T_58b16686_84ba_11ea_915e_185680f6e586row1_col4 {\n",
       "            background-color:  #a50000;\n",
       "            color:  #f1f1f1;\n",
       "        }    #T_58b16686_84ba_11ea_915e_185680f6e586row1_col5 {\n",
       "            background-color:  #9e0000;\n",
       "            color:  #f1f1f1;\n",
       "        }    #T_58b16686_84ba_11ea_915e_185680f6e586row1_col6 {\n",
       "            background-color:  #b30000;\n",
       "            color:  #f1f1f1;\n",
       "        }    #T_58b16686_84ba_11ea_915e_185680f6e586row1_col7 {\n",
       "            background-color:  #8c0000;\n",
       "            color:  #f1f1f1;\n",
       "        }    #T_58b16686_84ba_11ea_915e_185680f6e586row1_col8 {\n",
       "            background-color:  #b40201;\n",
       "            color:  #f1f1f1;\n",
       "        }    #T_58b16686_84ba_11ea_915e_185680f6e586row1_col9 {\n",
       "            background-color:  #8a0000;\n",
       "            color:  #f1f1f1;\n",
       "        }    #T_58b16686_84ba_11ea_915e_185680f6e586row2_col0 {\n",
       "            background-color:  #fee8c8;\n",
       "            color:  #000000;\n",
       "        }    #T_58b16686_84ba_11ea_915e_185680f6e586row2_col1 {\n",
       "            background-color:  #b20000;\n",
       "            color:  #f1f1f1;\n",
       "        }    #T_58b16686_84ba_11ea_915e_185680f6e586row2_col2 {\n",
       "            background-color:  #8f0000;\n",
       "            color:  #f1f1f1;\n",
       "        }    #T_58b16686_84ba_11ea_915e_185680f6e586row2_col3 {\n",
       "            background-color:  #8e0000;\n",
       "            color:  #f1f1f1;\n",
       "        }    #T_58b16686_84ba_11ea_915e_185680f6e586row2_col4 {\n",
       "            background-color:  #7f0000;\n",
       "            color:  #f1f1f1;\n",
       "        }    #T_58b16686_84ba_11ea_915e_185680f6e586row2_col5 {\n",
       "            background-color:  #7f0000;\n",
       "            color:  #f1f1f1;\n",
       "        }    #T_58b16686_84ba_11ea_915e_185680f6e586row2_col6 {\n",
       "            background-color:  #860000;\n",
       "            color:  #f1f1f1;\n",
       "        }    #T_58b16686_84ba_11ea_915e_185680f6e586row2_col7 {\n",
       "            background-color:  #7f0000;\n",
       "            color:  #f1f1f1;\n",
       "        }    #T_58b16686_84ba_11ea_915e_185680f6e586row2_col8 {\n",
       "            background-color:  #d62f1e;\n",
       "            color:  #f1f1f1;\n",
       "        }    #T_58b16686_84ba_11ea_915e_185680f6e586row2_col9 {\n",
       "            background-color:  #a50000;\n",
       "            color:  #f1f1f1;\n",
       "        }    #T_58b16686_84ba_11ea_915e_185680f6e586row3_col0 {\n",
       "            background-color:  #fddeb3;\n",
       "            color:  #000000;\n",
       "        }    #T_58b16686_84ba_11ea_915e_185680f6e586row3_col1 {\n",
       "            background-color:  #7f0000;\n",
       "            color:  #f1f1f1;\n",
       "        }    #T_58b16686_84ba_11ea_915e_185680f6e586row3_col2 {\n",
       "            background-color:  #8f0000;\n",
       "            color:  #f1f1f1;\n",
       "        }    #T_58b16686_84ba_11ea_915e_185680f6e586row3_col3 {\n",
       "            background-color:  #ab0000;\n",
       "            color:  #f1f1f1;\n",
       "        }    #T_58b16686_84ba_11ea_915e_185680f6e586row3_col4 {\n",
       "            background-color:  #8a0000;\n",
       "            color:  #f1f1f1;\n",
       "        }    #T_58b16686_84ba_11ea_915e_185680f6e586row3_col5 {\n",
       "            background-color:  #b50302;\n",
       "            color:  #f1f1f1;\n",
       "        }    #T_58b16686_84ba_11ea_915e_185680f6e586row3_col6 {\n",
       "            background-color:  #7f0000;\n",
       "            color:  #f1f1f1;\n",
       "        }    #T_58b16686_84ba_11ea_915e_185680f6e586row3_col7 {\n",
       "            background-color:  #8f0000;\n",
       "            color:  #f1f1f1;\n",
       "        }    #T_58b16686_84ba_11ea_915e_185680f6e586row3_col8 {\n",
       "            background-color:  #ef6548;\n",
       "            color:  #000000;\n",
       "        }    #T_58b16686_84ba_11ea_915e_185680f6e586row3_col9 {\n",
       "            background-color:  #c71b12;\n",
       "            color:  #f1f1f1;\n",
       "        }    #T_58b16686_84ba_11ea_915e_185680f6e586row4_col0 {\n",
       "            background-color:  #fdd49e;\n",
       "            color:  #000000;\n",
       "        }    #T_58b16686_84ba_11ea_915e_185680f6e586row4_col1 {\n",
       "            background-color:  #ea5a3f;\n",
       "            color:  #000000;\n",
       "        }    #T_58b16686_84ba_11ea_915e_185680f6e586row4_col2 {\n",
       "            background-color:  #d62f1e;\n",
       "            color:  #f1f1f1;\n",
       "        }    #T_58b16686_84ba_11ea_915e_185680f6e586row4_col3 {\n",
       "            background-color:  #de3f2b;\n",
       "            color:  #f1f1f1;\n",
       "        }    #T_58b16686_84ba_11ea_915e_185680f6e586row4_col4 {\n",
       "            background-color:  #d83221;\n",
       "            color:  #f1f1f1;\n",
       "        }    #T_58b16686_84ba_11ea_915e_185680f6e586row4_col5 {\n",
       "            background-color:  #fca36e;\n",
       "            color:  #000000;\n",
       "        }    #T_58b16686_84ba_11ea_915e_185680f6e586row4_col6 {\n",
       "            background-color:  #c91d13;\n",
       "            color:  #f1f1f1;\n",
       "        }    #T_58b16686_84ba_11ea_915e_185680f6e586row4_col7 {\n",
       "            background-color:  #d93523;\n",
       "            color:  #f1f1f1;\n",
       "        }    #T_58b16686_84ba_11ea_915e_185680f6e586row4_col8 {\n",
       "            background-color:  #fdbe87;\n",
       "            color:  #000000;\n",
       "        }    #T_58b16686_84ba_11ea_915e_185680f6e586row4_col9 {\n",
       "            background-color:  #f26d4b;\n",
       "            color:  #000000;\n",
       "        }    #T_58b16686_84ba_11ea_915e_185680f6e586row5_col0 {\n",
       "            background-color:  #fdc791;\n",
       "            color:  #000000;\n",
       "        }    #T_58b16686_84ba_11ea_915e_185680f6e586row5_col1 {\n",
       "            background-color:  #ef6447;\n",
       "            color:  #000000;\n",
       "        }    #T_58b16686_84ba_11ea_915e_185680f6e586row5_col2 {\n",
       "            background-color:  #fda671;\n",
       "            color:  #000000;\n",
       "        }    #T_58b16686_84ba_11ea_915e_185680f6e586row5_col3 {\n",
       "            background-color:  #fee9cb;\n",
       "            color:  #000000;\n",
       "        }    #T_58b16686_84ba_11ea_915e_185680f6e586row5_col4 {\n",
       "            background-color:  #fdc089;\n",
       "            color:  #000000;\n",
       "        }    #T_58b16686_84ba_11ea_915e_185680f6e586row5_col5 {\n",
       "            background-color:  #fdce98;\n",
       "            color:  #000000;\n",
       "        }    #T_58b16686_84ba_11ea_915e_185680f6e586row5_col6 {\n",
       "            background-color:  #fff7ec;\n",
       "            color:  #000000;\n",
       "        }    #T_58b16686_84ba_11ea_915e_185680f6e586row5_col7 {\n",
       "            background-color:  #fdc18a;\n",
       "            color:  #000000;\n",
       "        }    #T_58b16686_84ba_11ea_915e_185680f6e586row5_col8 {\n",
       "            background-color:  #fff5e7;\n",
       "            color:  #000000;\n",
       "        }    #T_58b16686_84ba_11ea_915e_185680f6e586row5_col9 {\n",
       "            background-color:  #fdc089;\n",
       "            color:  #000000;\n",
       "        }    #T_58b16686_84ba_11ea_915e_185680f6e586row6_col0 {\n",
       "            background-color:  #fdba83;\n",
       "            color:  #000000;\n",
       "        }    #T_58b16686_84ba_11ea_915e_185680f6e586row6_col1 {\n",
       "            background-color:  #dd3e2a;\n",
       "            color:  #f1f1f1;\n",
       "        }    #T_58b16686_84ba_11ea_915e_185680f6e586row6_col2 {\n",
       "            background-color:  #a50000;\n",
       "            color:  #f1f1f1;\n",
       "        }    #T_58b16686_84ba_11ea_915e_185680f6e586row6_col3 {\n",
       "            background-color:  #7f0000;\n",
       "            color:  #f1f1f1;\n",
       "        }    #T_58b16686_84ba_11ea_915e_185680f6e586row6_col4 {\n",
       "            background-color:  #820000;\n",
       "            color:  #f1f1f1;\n",
       "        }    #T_58b16686_84ba_11ea_915e_185680f6e586row6_col5 {\n",
       "            background-color:  #d83221;\n",
       "            color:  #f1f1f1;\n",
       "        }    #T_58b16686_84ba_11ea_915e_185680f6e586row6_col6 {\n",
       "            background-color:  #d52d1d;\n",
       "            color:  #f1f1f1;\n",
       "        }    #T_58b16686_84ba_11ea_915e_185680f6e586row6_col7 {\n",
       "            background-color:  #e54e36;\n",
       "            color:  #000000;\n",
       "        }    #T_58b16686_84ba_11ea_915e_185680f6e586row6_col8 {\n",
       "            background-color:  #bd0e09;\n",
       "            color:  #f1f1f1;\n",
       "        }    #T_58b16686_84ba_11ea_915e_185680f6e586row6_col9 {\n",
       "            background-color:  #b20000;\n",
       "            color:  #f1f1f1;\n",
       "        }    #T_58b16686_84ba_11ea_915e_185680f6e586row7_col0 {\n",
       "            background-color:  #fca36e;\n",
       "            color:  #000000;\n",
       "        }    #T_58b16686_84ba_11ea_915e_185680f6e586row7_col1 {\n",
       "            background-color:  #ed6145;\n",
       "            color:  #000000;\n",
       "        }    #T_58b16686_84ba_11ea_915e_185680f6e586row7_col2 {\n",
       "            background-color:  #970000;\n",
       "            color:  #f1f1f1;\n",
       "        }    #T_58b16686_84ba_11ea_915e_185680f6e586row7_col3 {\n",
       "            background-color:  #890000;\n",
       "            color:  #f1f1f1;\n",
       "        }    #T_58b16686_84ba_11ea_915e_185680f6e586row7_col4 {\n",
       "            background-color:  #a80000;\n",
       "            color:  #f1f1f1;\n",
       "        }    #T_58b16686_84ba_11ea_915e_185680f6e586row7_col5 {\n",
       "            background-color:  #d62f1e;\n",
       "            color:  #f1f1f1;\n",
       "        }    #T_58b16686_84ba_11ea_915e_185680f6e586row7_col6 {\n",
       "            background-color:  #cb2015;\n",
       "            color:  #f1f1f1;\n",
       "        }    #T_58b16686_84ba_11ea_915e_185680f6e586row7_col7 {\n",
       "            background-color:  #f26e4c;\n",
       "            color:  #000000;\n",
       "        }    #T_58b16686_84ba_11ea_915e_185680f6e586row7_col8 {\n",
       "            background-color:  #7f0000;\n",
       "            color:  #f1f1f1;\n",
       "        }    #T_58b16686_84ba_11ea_915e_185680f6e586row7_col9 {\n",
       "            background-color:  #d12719;\n",
       "            color:  #f1f1f1;\n",
       "        }    #T_58b16686_84ba_11ea_915e_185680f6e586row8_col0 {\n",
       "            background-color:  #fc8c59;\n",
       "            color:  #000000;\n",
       "        }    #T_58b16686_84ba_11ea_915e_185680f6e586row8_col1 {\n",
       "            background-color:  #fb8a58;\n",
       "            color:  #000000;\n",
       "        }    #T_58b16686_84ba_11ea_915e_185680f6e586row8_col2 {\n",
       "            background-color:  #d62f1e;\n",
       "            color:  #f1f1f1;\n",
       "        }    #T_58b16686_84ba_11ea_915e_185680f6e586row8_col3 {\n",
       "            background-color:  #e8553c;\n",
       "            color:  #000000;\n",
       "        }    #T_58b16686_84ba_11ea_915e_185680f6e586row8_col4 {\n",
       "            background-color:  #f67a51;\n",
       "            color:  #000000;\n",
       "        }    #T_58b16686_84ba_11ea_915e_185680f6e586row8_col5 {\n",
       "            background-color:  #f67c52;\n",
       "            color:  #000000;\n",
       "        }    #T_58b16686_84ba_11ea_915e_185680f6e586row8_col6 {\n",
       "            background-color:  #df432d;\n",
       "            color:  #f1f1f1;\n",
       "        }    #T_58b16686_84ba_11ea_915e_185680f6e586row8_col7 {\n",
       "            background-color:  #fdad77;\n",
       "            color:  #000000;\n",
       "        }    #T_58b16686_84ba_11ea_915e_185680f6e586row8_col8 {\n",
       "            background-color:  #f16a4a;\n",
       "            color:  #000000;\n",
       "        }    #T_58b16686_84ba_11ea_915e_185680f6e586row8_col9 {\n",
       "            background-color:  #be0f0a;\n",
       "            color:  #f1f1f1;\n",
       "        }    #T_58b16686_84ba_11ea_915e_185680f6e586row9_col0 {\n",
       "            background-color:  #f57850;\n",
       "            color:  #000000;\n",
       "        }    #T_58b16686_84ba_11ea_915e_185680f6e586row9_col1 {\n",
       "            background-color:  #fc8c59;\n",
       "            color:  #000000;\n",
       "        }    #T_58b16686_84ba_11ea_915e_185680f6e586row9_col2 {\n",
       "            background-color:  #ce2417;\n",
       "            color:  #f1f1f1;\n",
       "        }    #T_58b16686_84ba_11ea_915e_185680f6e586row9_col3 {\n",
       "            background-color:  #e8553c;\n",
       "            color:  #000000;\n",
       "        }    #T_58b16686_84ba_11ea_915e_185680f6e586row9_col4 {\n",
       "            background-color:  #e65239;\n",
       "            color:  #000000;\n",
       "        }    #T_58b16686_84ba_11ea_915e_185680f6e586row9_col5 {\n",
       "            background-color:  #ec5d42;\n",
       "            color:  #000000;\n",
       "        }    #T_58b16686_84ba_11ea_915e_185680f6e586row9_col6 {\n",
       "            background-color:  #f3714d;\n",
       "            color:  #000000;\n",
       "        }    #T_58b16686_84ba_11ea_915e_185680f6e586row9_col7 {\n",
       "            background-color:  #f77f53;\n",
       "            color:  #000000;\n",
       "        }    #T_58b16686_84ba_11ea_915e_185680f6e586row9_col8 {\n",
       "            background-color:  #bd0e09;\n",
       "            color:  #f1f1f1;\n",
       "        }    #T_58b16686_84ba_11ea_915e_185680f6e586row9_col9 {\n",
       "            background-color:  #ca1e14;\n",
       "            color:  #f1f1f1;\n",
       "        }    #T_58b16686_84ba_11ea_915e_185680f6e586row10_col0 {\n",
       "            background-color:  #ef6447;\n",
       "            color:  #000000;\n",
       "        }    #T_58b16686_84ba_11ea_915e_185680f6e586row10_col1 {\n",
       "            background-color:  #fc9964;\n",
       "            color:  #000000;\n",
       "        }    #T_58b16686_84ba_11ea_915e_185680f6e586row10_col2 {\n",
       "            background-color:  #c3150e;\n",
       "            color:  #f1f1f1;\n",
       "        }    #T_58b16686_84ba_11ea_915e_185680f6e586row10_col3 {\n",
       "            background-color:  #c2140d;\n",
       "            color:  #f1f1f1;\n",
       "        }    #T_58b16686_84ba_11ea_915e_185680f6e586row10_col4 {\n",
       "            background-color:  #be0f0a;\n",
       "            color:  #f1f1f1;\n",
       "        }    #T_58b16686_84ba_11ea_915e_185680f6e586row10_col5 {\n",
       "            background-color:  #fb8b58;\n",
       "            color:  #000000;\n",
       "        }    #T_58b16686_84ba_11ea_915e_185680f6e586row10_col6 {\n",
       "            background-color:  #fa8656;\n",
       "            color:  #000000;\n",
       "        }    #T_58b16686_84ba_11ea_915e_185680f6e586row10_col7 {\n",
       "            background-color:  #cf2618;\n",
       "            color:  #f1f1f1;\n",
       "        }    #T_58b16686_84ba_11ea_915e_185680f6e586row10_col8 {\n",
       "            background-color:  #ed6145;\n",
       "            color:  #000000;\n",
       "        }    #T_58b16686_84ba_11ea_915e_185680f6e586row10_col9 {\n",
       "            background-color:  #b50302;\n",
       "            color:  #f1f1f1;\n",
       "        }    #T_58b16686_84ba_11ea_915e_185680f6e586row11_col0 {\n",
       "            background-color:  #e24933;\n",
       "            color:  #f1f1f1;\n",
       "        }    #T_58b16686_84ba_11ea_915e_185680f6e586row11_col1 {\n",
       "            background-color:  #fda56f;\n",
       "            color:  #000000;\n",
       "        }    #T_58b16686_84ba_11ea_915e_185680f6e586row11_col2 {\n",
       "            background-color:  #c0110b;\n",
       "            color:  #f1f1f1;\n",
       "        }    #T_58b16686_84ba_11ea_915e_185680f6e586row11_col3 {\n",
       "            background-color:  #cf2618;\n",
       "            color:  #f1f1f1;\n",
       "        }    #T_58b16686_84ba_11ea_915e_185680f6e586row11_col4 {\n",
       "            background-color:  #a50000;\n",
       "            color:  #f1f1f1;\n",
       "        }    #T_58b16686_84ba_11ea_915e_185680f6e586row11_col5 {\n",
       "            background-color:  #fdce98;\n",
       "            color:  #000000;\n",
       "        }    #T_58b16686_84ba_11ea_915e_185680f6e586row11_col6 {\n",
       "            background-color:  #fdbf88;\n",
       "            color:  #000000;\n",
       "        }    #T_58b16686_84ba_11ea_915e_185680f6e586row11_col7 {\n",
       "            background-color:  #890000;\n",
       "            color:  #f1f1f1;\n",
       "        }    #T_58b16686_84ba_11ea_915e_185680f6e586row11_col8 {\n",
       "            background-color:  #e24933;\n",
       "            color:  #f1f1f1;\n",
       "        }    #T_58b16686_84ba_11ea_915e_185680f6e586row11_col9 {\n",
       "            background-color:  #a50000;\n",
       "            color:  #f1f1f1;\n",
       "        }    #T_58b16686_84ba_11ea_915e_185680f6e586row12_col0 {\n",
       "            background-color:  #d62f1e;\n",
       "            color:  #f1f1f1;\n",
       "        }    #T_58b16686_84ba_11ea_915e_185680f6e586row12_col1 {\n",
       "            background-color:  #fda872;\n",
       "            color:  #000000;\n",
       "        }    #T_58b16686_84ba_11ea_915e_185680f6e586row12_col2 {\n",
       "            background-color:  #c0110b;\n",
       "            color:  #f1f1f1;\n",
       "        }    #T_58b16686_84ba_11ea_915e_185680f6e586row12_col3 {\n",
       "            background-color:  #c2140d;\n",
       "            color:  #f1f1f1;\n",
       "        }    #T_58b16686_84ba_11ea_915e_185680f6e586row12_col4 {\n",
       "            background-color:  #910000;\n",
       "            color:  #f1f1f1;\n",
       "        }    #T_58b16686_84ba_11ea_915e_185680f6e586row12_col5 {\n",
       "            background-color:  #fdd09a;\n",
       "            color:  #000000;\n",
       "        }    #T_58b16686_84ba_11ea_915e_185680f6e586row12_col6 {\n",
       "            background-color:  #fc8e5a;\n",
       "            color:  #000000;\n",
       "        }    #T_58b16686_84ba_11ea_915e_185680f6e586row12_col7 {\n",
       "            background-color:  #a50000;\n",
       "            color:  #f1f1f1;\n",
       "        }    #T_58b16686_84ba_11ea_915e_185680f6e586row12_col8 {\n",
       "            background-color:  #fb8a58;\n",
       "            color:  #000000;\n",
       "        }    #T_58b16686_84ba_11ea_915e_185680f6e586row12_col9 {\n",
       "            background-color:  #d12719;\n",
       "            color:  #f1f1f1;\n",
       "        }    #T_58b16686_84ba_11ea_915e_185680f6e586row13_col0 {\n",
       "            background-color:  #c4170f;\n",
       "            color:  #f1f1f1;\n",
       "        }    #T_58b16686_84ba_11ea_915e_185680f6e586row13_col1 {\n",
       "            background-color:  #fdad77;\n",
       "            color:  #000000;\n",
       "        }    #T_58b16686_84ba_11ea_915e_185680f6e586row13_col2 {\n",
       "            background-color:  #930000;\n",
       "            color:  #f1f1f1;\n",
       "        }    #T_58b16686_84ba_11ea_915e_185680f6e586row13_col3 {\n",
       "            background-color:  #ba0906;\n",
       "            color:  #f1f1f1;\n",
       "        }    #T_58b16686_84ba_11ea_915e_185680f6e586row13_col4 {\n",
       "            background-color:  #820000;\n",
       "            color:  #f1f1f1;\n",
       "        }    #T_58b16686_84ba_11ea_915e_185680f6e586row13_col5 {\n",
       "            background-color:  #fc8c59;\n",
       "            color:  #000000;\n",
       "        }    #T_58b16686_84ba_11ea_915e_185680f6e586row13_col6 {\n",
       "            background-color:  #f3714d;\n",
       "            color:  #000000;\n",
       "        }    #T_58b16686_84ba_11ea_915e_185680f6e586row13_col7 {\n",
       "            background-color:  #a80000;\n",
       "            color:  #f1f1f1;\n",
       "        }    #T_58b16686_84ba_11ea_915e_185680f6e586row13_col8 {\n",
       "            background-color:  #cf2618;\n",
       "            color:  #f1f1f1;\n",
       "        }    #T_58b16686_84ba_11ea_915e_185680f6e586row13_col9 {\n",
       "            background-color:  #b80604;\n",
       "            color:  #f1f1f1;\n",
       "        }    #T_58b16686_84ba_11ea_915e_185680f6e586row14_col0 {\n",
       "            background-color:  #b20000;\n",
       "            color:  #f1f1f1;\n",
       "        }    #T_58b16686_84ba_11ea_915e_185680f6e586row14_col1 {\n",
       "            background-color:  #fdab75;\n",
       "            color:  #000000;\n",
       "        }    #T_58b16686_84ba_11ea_915e_185680f6e586row14_col2 {\n",
       "            background-color:  #ad0000;\n",
       "            color:  #f1f1f1;\n",
       "        }    #T_58b16686_84ba_11ea_915e_185680f6e586row14_col3 {\n",
       "            background-color:  #d42c1c;\n",
       "            color:  #f1f1f1;\n",
       "        }    #T_58b16686_84ba_11ea_915e_185680f6e586row14_col4 {\n",
       "            background-color:  #a50000;\n",
       "            color:  #f1f1f1;\n",
       "        }    #T_58b16686_84ba_11ea_915e_185680f6e586row14_col5 {\n",
       "            background-color:  #fc8c59;\n",
       "            color:  #000000;\n",
       "        }    #T_58b16686_84ba_11ea_915e_185680f6e586row14_col6 {\n",
       "            background-color:  #ee6246;\n",
       "            color:  #000000;\n",
       "        }    #T_58b16686_84ba_11ea_915e_185680f6e586row14_col7 {\n",
       "            background-color:  #b70503;\n",
       "            color:  #f1f1f1;\n",
       "        }    #T_58b16686_84ba_11ea_915e_185680f6e586row14_col8 {\n",
       "            background-color:  #fc925e;\n",
       "            color:  #000000;\n",
       "        }    #T_58b16686_84ba_11ea_915e_185680f6e586row14_col9 {\n",
       "            background-color:  #a50000;\n",
       "            color:  #f1f1f1;\n",
       "        }    #T_58b16686_84ba_11ea_915e_185680f6e586row15_col0 {\n",
       "            background-color:  #970000;\n",
       "            color:  #f1f1f1;\n",
       "        }    #T_58b16686_84ba_11ea_915e_185680f6e586row15_col1 {\n",
       "            background-color:  #fdbb85;\n",
       "            color:  #000000;\n",
       "        }    #T_58b16686_84ba_11ea_915e_185680f6e586row15_col2 {\n",
       "            background-color:  #ba0906;\n",
       "            color:  #f1f1f1;\n",
       "        }    #T_58b16686_84ba_11ea_915e_185680f6e586row15_col3 {\n",
       "            background-color:  #e54e36;\n",
       "            color:  #000000;\n",
       "        }    #T_58b16686_84ba_11ea_915e_185680f6e586row15_col4 {\n",
       "            background-color:  #b70503;\n",
       "            color:  #f1f1f1;\n",
       "        }    #T_58b16686_84ba_11ea_915e_185680f6e586row15_col5 {\n",
       "            background-color:  #f98455;\n",
       "            color:  #000000;\n",
       "        }    #T_58b16686_84ba_11ea_915e_185680f6e586row15_col6 {\n",
       "            background-color:  #f67b51;\n",
       "            color:  #000000;\n",
       "        }    #T_58b16686_84ba_11ea_915e_185680f6e586row15_col7 {\n",
       "            background-color:  #c1120c;\n",
       "            color:  #f1f1f1;\n",
       "        }    #T_58b16686_84ba_11ea_915e_185680f6e586row15_col8 {\n",
       "            background-color:  #fdbd86;\n",
       "            color:  #000000;\n",
       "        }    #T_58b16686_84ba_11ea_915e_185680f6e586row15_col9 {\n",
       "            background-color:  #bb0b07;\n",
       "            color:  #f1f1f1;\n",
       "        }    #T_58b16686_84ba_11ea_915e_185680f6e586row16_col0 {\n",
       "            background-color:  #7f0000;\n",
       "            color:  #f1f1f1;\n",
       "        }    #T_58b16686_84ba_11ea_915e_185680f6e586row16_col1 {\n",
       "            background-color:  #fff7ec;\n",
       "            color:  #000000;\n",
       "        }    #T_58b16686_84ba_11ea_915e_185680f6e586row16_col2 {\n",
       "            background-color:  #fff7ec;\n",
       "            color:  #000000;\n",
       "        }    #T_58b16686_84ba_11ea_915e_185680f6e586row16_col3 {\n",
       "            background-color:  #fff7ec;\n",
       "            color:  #000000;\n",
       "        }    #T_58b16686_84ba_11ea_915e_185680f6e586row16_col4 {\n",
       "            background-color:  #fff7ec;\n",
       "            color:  #000000;\n",
       "        }    #T_58b16686_84ba_11ea_915e_185680f6e586row16_col5 {\n",
       "            background-color:  #fff7ec;\n",
       "            color:  #000000;\n",
       "        }    #T_58b16686_84ba_11ea_915e_185680f6e586row16_col6 {\n",
       "            background-color:  #fee5c3;\n",
       "            color:  #000000;\n",
       "        }    #T_58b16686_84ba_11ea_915e_185680f6e586row16_col7 {\n",
       "            background-color:  #fff7ec;\n",
       "            color:  #000000;\n",
       "        }    #T_58b16686_84ba_11ea_915e_185680f6e586row16_col8 {\n",
       "            background-color:  #fff7ec;\n",
       "            color:  #000000;\n",
       "        }    #T_58b16686_84ba_11ea_915e_185680f6e586row16_col9 {\n",
       "            background-color:  #fff7ec;\n",
       "            color:  #000000;\n",
       "        }</style><table id=\"T_58b16686_84ba_11ea_915e_185680f6e586\" ><thead>    <tr>        <th class=\"blank level0\" ></th>        <th class=\"col_heading level0 col0\" >Date</th>        <th class=\"col_heading level0 col1\" >China</th>        <th class=\"col_heading level0 col2\" >France</th>        <th class=\"col_heading level0 col3\" >Germany</th>        <th class=\"col_heading level0 col4\" >Italy</th>        <th class=\"col_heading level0 col5\" >Kazakhstan</th>        <th class=\"col_heading level0 col6\" >Russian Federation</th>        <th class=\"col_heading level0 col7\" >Spain</th>        <th class=\"col_heading level0 col8\" >Turkey</th>        <th class=\"col_heading level0 col9\" >United States</th>    </tr></thead><tbody>\n",
       "                <tr>\n",
       "                        <th id=\"T_58b16686_84ba_11ea_915e_185680f6e586level0_row0\" class=\"row_heading level0 row0\" >0</th>\n",
       "                        <td id=\"T_58b16686_84ba_11ea_915e_185680f6e586row0_col0\" class=\"data row0 col0\" >2004</td>\n",
       "                        <td id=\"T_58b16686_84ba_11ea_915e_185680f6e586row0_col1\" class=\"data row0 col1\" >10.2</td>\n",
       "                        <td id=\"T_58b16686_84ba_11ea_915e_185680f6e586row0_col2\" class=\"data row0 col2\" >2.8</td>\n",
       "                        <td id=\"T_58b16686_84ba_11ea_915e_185680f6e586row0_col3\" class=\"data row0 col3\" >1.2</td>\n",
       "                        <td id=\"T_58b16686_84ba_11ea_915e_185680f6e586row0_col4\" class=\"data row0 col4\" >1.4</td>\n",
       "                        <td id=\"T_58b16686_84ba_11ea_915e_185680f6e586row0_col5\" class=\"data row0 col5\" >9.6</td>\n",
       "                        <td id=\"T_58b16686_84ba_11ea_915e_185680f6e586row0_col6\" class=\"data row0 col6\" >7.2</td>\n",
       "                        <td id=\"T_58b16686_84ba_11ea_915e_185680f6e586row0_col7\" class=\"data row0 col7\" >3.1</td>\n",
       "                        <td id=\"T_58b16686_84ba_11ea_915e_185680f6e586row0_col8\" class=\"data row0 col8\" >9.6</td>\n",
       "                        <td id=\"T_58b16686_84ba_11ea_915e_185680f6e586row0_col9\" class=\"data row0 col9\" >3.8</td>\n",
       "            </tr>\n",
       "            <tr>\n",
       "                        <th id=\"T_58b16686_84ba_11ea_915e_185680f6e586level0_row1\" class=\"row_heading level0 row1\" >1</th>\n",
       "                        <td id=\"T_58b16686_84ba_11ea_915e_185680f6e586row1_col0\" class=\"data row1 col0\" >2005</td>\n",
       "                        <td id=\"T_58b16686_84ba_11ea_915e_185680f6e586row1_col1\" class=\"data row1 col1\" >11.4</td>\n",
       "                        <td id=\"T_58b16686_84ba_11ea_915e_185680f6e586row1_col2\" class=\"data row1 col2\" >1.7</td>\n",
       "                        <td id=\"T_58b16686_84ba_11ea_915e_185680f6e586row1_col3\" class=\"data row1 col3\" >0.7</td>\n",
       "                        <td id=\"T_58b16686_84ba_11ea_915e_185680f6e586row1_col4\" class=\"data row1 col4\" >0.8</td>\n",
       "                        <td id=\"T_58b16686_84ba_11ea_915e_185680f6e586row1_col5\" class=\"data row1 col5\" >9.7</td>\n",
       "                        <td id=\"T_58b16686_84ba_11ea_915e_185680f6e586row1_col6\" class=\"data row1 col6\" >6.4</td>\n",
       "                        <td id=\"T_58b16686_84ba_11ea_915e_185680f6e586row1_col7\" class=\"data row1 col7\" >3.7</td>\n",
       "                        <td id=\"T_58b16686_84ba_11ea_915e_185680f6e586row1_col8\" class=\"data row1 col8\" >9</td>\n",
       "                        <td id=\"T_58b16686_84ba_11ea_915e_185680f6e586row1_col9\" class=\"data row1 col9\" >3.5</td>\n",
       "            </tr>\n",
       "            <tr>\n",
       "                        <th id=\"T_58b16686_84ba_11ea_915e_185680f6e586level0_row2\" class=\"row_heading level0 row2\" >2</th>\n",
       "                        <td id=\"T_58b16686_84ba_11ea_915e_185680f6e586row2_col0\" class=\"data row2 col0\" >2006</td>\n",
       "                        <td id=\"T_58b16686_84ba_11ea_915e_185680f6e586row2_col1\" class=\"data row2 col1\" >12.7</td>\n",
       "                        <td id=\"T_58b16686_84ba_11ea_915e_185680f6e586row2_col2\" class=\"data row2 col2\" >2.4</td>\n",
       "                        <td id=\"T_58b16686_84ba_11ea_915e_185680f6e586row2_col3\" class=\"data row2 col3\" >3.8</td>\n",
       "                        <td id=\"T_58b16686_84ba_11ea_915e_185680f6e586row2_col4\" class=\"data row2 col4\" >1.8</td>\n",
       "                        <td id=\"T_58b16686_84ba_11ea_915e_185680f6e586row2_col5\" class=\"data row2 col5\" >10.7</td>\n",
       "                        <td id=\"T_58b16686_84ba_11ea_915e_185680f6e586row2_col6\" class=\"data row2 col6\" >8.2</td>\n",
       "                        <td id=\"T_58b16686_84ba_11ea_915e_185680f6e586row2_col7\" class=\"data row2 col7\" >4.1</td>\n",
       "                        <td id=\"T_58b16686_84ba_11ea_915e_185680f6e586row2_col8\" class=\"data row2 col8\" >7.1</td>\n",
       "                        <td id=\"T_58b16686_84ba_11ea_915e_185680f6e586row2_col9\" class=\"data row2 col9\" >2.9</td>\n",
       "            </tr>\n",
       "            <tr>\n",
       "                        <th id=\"T_58b16686_84ba_11ea_915e_185680f6e586level0_row3\" class=\"row_heading level0 row3\" >3</th>\n",
       "                        <td id=\"T_58b16686_84ba_11ea_915e_185680f6e586row3_col0\" class=\"data row3 col0\" >2007</td>\n",
       "                        <td id=\"T_58b16686_84ba_11ea_915e_185680f6e586row3_col1\" class=\"data row3 col1\" >14.3</td>\n",
       "                        <td id=\"T_58b16686_84ba_11ea_915e_185680f6e586row3_col2\" class=\"data row3 col2\" >2.4</td>\n",
       "                        <td id=\"T_58b16686_84ba_11ea_915e_185680f6e586row3_col3\" class=\"data row3 col3\" >3</td>\n",
       "                        <td id=\"T_58b16686_84ba_11ea_915e_185680f6e586row3_col4\" class=\"data row3 col4\" >1.5</td>\n",
       "                        <td id=\"T_58b16686_84ba_11ea_915e_185680f6e586row3_col5\" class=\"data row3 col5\" >8.9</td>\n",
       "                        <td id=\"T_58b16686_84ba_11ea_915e_185680f6e586row3_col6\" class=\"data row3 col6\" >8.5</td>\n",
       "                        <td id=\"T_58b16686_84ba_11ea_915e_185680f6e586row3_col7\" class=\"data row3 col7\" >3.6</td>\n",
       "                        <td id=\"T_58b16686_84ba_11ea_915e_185680f6e586row3_col8\" class=\"data row3 col8\" >5</td>\n",
       "                        <td id=\"T_58b16686_84ba_11ea_915e_185680f6e586row3_col9\" class=\"data row3 col9\" >1.9</td>\n",
       "            </tr>\n",
       "            <tr>\n",
       "                        <th id=\"T_58b16686_84ba_11ea_915e_185680f6e586level0_row4\" class=\"row_heading level0 row4\" >4</th>\n",
       "                        <td id=\"T_58b16686_84ba_11ea_915e_185680f6e586row4_col0\" class=\"data row4 col0\" >2008</td>\n",
       "                        <td id=\"T_58b16686_84ba_11ea_915e_185680f6e586row4_col1\" class=\"data row4 col1\" >9.7</td>\n",
       "                        <td id=\"T_58b16686_84ba_11ea_915e_185680f6e586row4_col2\" class=\"data row4 col2\" >0.3</td>\n",
       "                        <td id=\"T_58b16686_84ba_11ea_915e_185680f6e586row4_col3\" class=\"data row4 col3\" >1</td>\n",
       "                        <td id=\"T_58b16686_84ba_11ea_915e_185680f6e586row4_col4\" class=\"data row4 col4\" >-1</td>\n",
       "                        <td id=\"T_58b16686_84ba_11ea_915e_185680f6e586row4_col5\" class=\"data row4 col5\" >3.3</td>\n",
       "                        <td id=\"T_58b16686_84ba_11ea_915e_185680f6e586row4_col6\" class=\"data row4 col6\" >5.2</td>\n",
       "                        <td id=\"T_58b16686_84ba_11ea_915e_185680f6e586row4_col7\" class=\"data row4 col7\" >0.9</td>\n",
       "                        <td id=\"T_58b16686_84ba_11ea_915e_185680f6e586row4_col8\" class=\"data row4 col8\" >0.8</td>\n",
       "                        <td id=\"T_58b16686_84ba_11ea_915e_185680f6e586row4_col9\" class=\"data row4 col9\" >-0.1</td>\n",
       "            </tr>\n",
       "            <tr>\n",
       "                        <th id=\"T_58b16686_84ba_11ea_915e_185680f6e586level0_row5\" class=\"row_heading level0 row5\" >5</th>\n",
       "                        <td id=\"T_58b16686_84ba_11ea_915e_185680f6e586row5_col0\" class=\"data row5 col0\" >2009</td>\n",
       "                        <td id=\"T_58b16686_84ba_11ea_915e_185680f6e586row5_col1\" class=\"data row5 col1\" >9.4</td>\n",
       "                        <td id=\"T_58b16686_84ba_11ea_915e_185680f6e586row5_col2\" class=\"data row5 col2\" >-2.9</td>\n",
       "                        <td id=\"T_58b16686_84ba_11ea_915e_185680f6e586row5_col3\" class=\"data row5 col3\" >-5.7</td>\n",
       "                        <td id=\"T_58b16686_84ba_11ea_915e_185680f6e586row5_col4\" class=\"data row5 col4\" >-5.3</td>\n",
       "                        <td id=\"T_58b16686_84ba_11ea_915e_185680f6e586row5_col5\" class=\"data row5 col5\" >1.2</td>\n",
       "                        <td id=\"T_58b16686_84ba_11ea_915e_185680f6e586row5_col6\" class=\"data row5 col6\" >-7.8</td>\n",
       "                        <td id=\"T_58b16686_84ba_11ea_915e_185680f6e586row5_col7\" class=\"data row5 col7\" >-3.8</td>\n",
       "                        <td id=\"T_58b16686_84ba_11ea_915e_185680f6e586row5_col8\" class=\"data row5 col8\" >-4.7</td>\n",
       "                        <td id=\"T_58b16686_84ba_11ea_915e_185680f6e586row5_col9\" class=\"data row5 col9\" >-2.5</td>\n",
       "            </tr>\n",
       "            <tr>\n",
       "                        <th id=\"T_58b16686_84ba_11ea_915e_185680f6e586level0_row6\" class=\"row_heading level0 row6\" >6</th>\n",
       "                        <td id=\"T_58b16686_84ba_11ea_915e_185680f6e586row6_col0\" class=\"data row6 col0\" >2010</td>\n",
       "                        <td id=\"T_58b16686_84ba_11ea_915e_185680f6e586row6_col1\" class=\"data row6 col1\" >10.6</td>\n",
       "                        <td id=\"T_58b16686_84ba_11ea_915e_185680f6e586row6_col2\" class=\"data row6 col2\" >1.9</td>\n",
       "                        <td id=\"T_58b16686_84ba_11ea_915e_185680f6e586row6_col3\" class=\"data row6 col3\" >4.2</td>\n",
       "                        <td id=\"T_58b16686_84ba_11ea_915e_185680f6e586row6_col4\" class=\"data row6 col4\" >1.7</td>\n",
       "                        <td id=\"T_58b16686_84ba_11ea_915e_185680f6e586row6_col5\" class=\"data row6 col5\" >7.3</td>\n",
       "                        <td id=\"T_58b16686_84ba_11ea_915e_185680f6e586row6_col6\" class=\"data row6 col6\" >4.5</td>\n",
       "                        <td id=\"T_58b16686_84ba_11ea_915e_185680f6e586row6_col7\" class=\"data row6 col7\" >0.2</td>\n",
       "                        <td id=\"T_58b16686_84ba_11ea_915e_185680f6e586row6_col8\" class=\"data row6 col8\" >8.5</td>\n",
       "                        <td id=\"T_58b16686_84ba_11ea_915e_185680f6e586row6_col9\" class=\"data row6 col9\" >2.6</td>\n",
       "            </tr>\n",
       "            <tr>\n",
       "                        <th id=\"T_58b16686_84ba_11ea_915e_185680f6e586level0_row7\" class=\"row_heading level0 row7\" >7</th>\n",
       "                        <td id=\"T_58b16686_84ba_11ea_915e_185680f6e586row7_col0\" class=\"data row7 col0\" >2011</td>\n",
       "                        <td id=\"T_58b16686_84ba_11ea_915e_185680f6e586row7_col1\" class=\"data row7 col1\" >9.5</td>\n",
       "                        <td id=\"T_58b16686_84ba_11ea_915e_185680f6e586row7_col2\" class=\"data row7 col2\" >2.2</td>\n",
       "                        <td id=\"T_58b16686_84ba_11ea_915e_185680f6e586row7_col3\" class=\"data row7 col3\" >3.9</td>\n",
       "                        <td id=\"T_58b16686_84ba_11ea_915e_185680f6e586row7_col4\" class=\"data row7 col4\" >0.7</td>\n",
       "                        <td id=\"T_58b16686_84ba_11ea_915e_185680f6e586row7_col5\" class=\"data row7 col5\" >7.4</td>\n",
       "                        <td id=\"T_58b16686_84ba_11ea_915e_185680f6e586row7_col6\" class=\"data row7 col6\" >5.1</td>\n",
       "                        <td id=\"T_58b16686_84ba_11ea_915e_185680f6e586row7_col7\" class=\"data row7 col7\" >-0.8</td>\n",
       "                        <td id=\"T_58b16686_84ba_11ea_915e_185680f6e586row7_col8\" class=\"data row7 col8\" >11.1</td>\n",
       "                        <td id=\"T_58b16686_84ba_11ea_915e_185680f6e586row7_col9\" class=\"data row7 col9\" >1.6</td>\n",
       "            </tr>\n",
       "            <tr>\n",
       "                        <th id=\"T_58b16686_84ba_11ea_915e_185680f6e586level0_row8\" class=\"row_heading level0 row8\" >8</th>\n",
       "                        <td id=\"T_58b16686_84ba_11ea_915e_185680f6e586row8_col0\" class=\"data row8 col0\" >2012</td>\n",
       "                        <td id=\"T_58b16686_84ba_11ea_915e_185680f6e586row8_col1\" class=\"data row8 col1\" >7.9</td>\n",
       "                        <td id=\"T_58b16686_84ba_11ea_915e_185680f6e586row8_col2\" class=\"data row8 col2\" >0.3</td>\n",
       "                        <td id=\"T_58b16686_84ba_11ea_915e_185680f6e586row8_col3\" class=\"data row8 col3\" >0.4</td>\n",
       "                        <td id=\"T_58b16686_84ba_11ea_915e_185680f6e586row8_col4\" class=\"data row8 col4\" >-3</td>\n",
       "                        <td id=\"T_58b16686_84ba_11ea_915e_185680f6e586row8_col5\" class=\"data row8 col5\" >4.8</td>\n",
       "                        <td id=\"T_58b16686_84ba_11ea_915e_185680f6e586row8_col6\" class=\"data row8 col6\" >3.7</td>\n",
       "                        <td id=\"T_58b16686_84ba_11ea_915e_185680f6e586row8_col7\" class=\"data row8 col7\" >-3</td>\n",
       "                        <td id=\"T_58b16686_84ba_11ea_915e_185680f6e586row8_col8\" class=\"data row8 col8\" >4.8</td>\n",
       "                        <td id=\"T_58b16686_84ba_11ea_915e_185680f6e586row8_col9\" class=\"data row8 col9\" >2.2</td>\n",
       "            </tr>\n",
       "            <tr>\n",
       "                        <th id=\"T_58b16686_84ba_11ea_915e_185680f6e586level0_row9\" class=\"row_heading level0 row9\" >9</th>\n",
       "                        <td id=\"T_58b16686_84ba_11ea_915e_185680f6e586row9_col0\" class=\"data row9 col0\" >2013</td>\n",
       "                        <td id=\"T_58b16686_84ba_11ea_915e_185680f6e586row9_col1\" class=\"data row9 col1\" >7.8</td>\n",
       "                        <td id=\"T_58b16686_84ba_11ea_915e_185680f6e586row9_col2\" class=\"data row9 col2\" >0.6</td>\n",
       "                        <td id=\"T_58b16686_84ba_11ea_915e_185680f6e586row9_col3\" class=\"data row9 col3\" >0.4</td>\n",
       "                        <td id=\"T_58b16686_84ba_11ea_915e_185680f6e586row9_col4\" class=\"data row9 col4\" >-1.8</td>\n",
       "                        <td id=\"T_58b16686_84ba_11ea_915e_185680f6e586row9_col5\" class=\"data row9 col5\" >6</td>\n",
       "                        <td id=\"T_58b16686_84ba_11ea_915e_185680f6e586row9_col6\" class=\"data row9 col6\" >1.8</td>\n",
       "                        <td id=\"T_58b16686_84ba_11ea_915e_185680f6e586row9_col7\" class=\"data row9 col7\" >-1.4</td>\n",
       "                        <td id=\"T_58b16686_84ba_11ea_915e_185680f6e586row9_col8\" class=\"data row9 col8\" >8.5</td>\n",
       "                        <td id=\"T_58b16686_84ba_11ea_915e_185680f6e586row9_col9\" class=\"data row9 col9\" >1.8</td>\n",
       "            </tr>\n",
       "            <tr>\n",
       "                        <th id=\"T_58b16686_84ba_11ea_915e_185680f6e586level0_row10\" class=\"row_heading level0 row10\" >10</th>\n",
       "                        <td id=\"T_58b16686_84ba_11ea_915e_185680f6e586row10_col0\" class=\"data row10 col0\" >2014</td>\n",
       "                        <td id=\"T_58b16686_84ba_11ea_915e_185680f6e586row10_col1\" class=\"data row10 col1\" >7.3</td>\n",
       "                        <td id=\"T_58b16686_84ba_11ea_915e_185680f6e586row10_col2\" class=\"data row10 col2\" >1</td>\n",
       "                        <td id=\"T_58b16686_84ba_11ea_915e_185680f6e586row10_col3\" class=\"data row10 col3\" >2.2</td>\n",
       "                        <td id=\"T_58b16686_84ba_11ea_915e_185680f6e586row10_col4\" class=\"data row10 col4\" >0</td>\n",
       "                        <td id=\"T_58b16686_84ba_11ea_915e_185680f6e586row10_col5\" class=\"data row10 col5\" >4.2</td>\n",
       "                        <td id=\"T_58b16686_84ba_11ea_915e_185680f6e586row10_col6\" class=\"data row10 col6\" >0.7</td>\n",
       "                        <td id=\"T_58b16686_84ba_11ea_915e_185680f6e586row10_col7\" class=\"data row10 col7\" >1.4</td>\n",
       "                        <td id=\"T_58b16686_84ba_11ea_915e_185680f6e586row10_col8\" class=\"data row10 col8\" >5.2</td>\n",
       "                        <td id=\"T_58b16686_84ba_11ea_915e_185680f6e586row10_col9\" class=\"data row10 col9\" >2.5</td>\n",
       "            </tr>\n",
       "            <tr>\n",
       "                        <th id=\"T_58b16686_84ba_11ea_915e_185680f6e586level0_row11\" class=\"row_heading level0 row11\" >11</th>\n",
       "                        <td id=\"T_58b16686_84ba_11ea_915e_185680f6e586row11_col0\" class=\"data row11 col0\" >2015</td>\n",
       "                        <td id=\"T_58b16686_84ba_11ea_915e_185680f6e586row11_col1\" class=\"data row11 col1\" >6.9</td>\n",
       "                        <td id=\"T_58b16686_84ba_11ea_915e_185680f6e586row11_col2\" class=\"data row11 col2\" >1.1</td>\n",
       "                        <td id=\"T_58b16686_84ba_11ea_915e_185680f6e586row11_col3\" class=\"data row11 col3\" >1.7</td>\n",
       "                        <td id=\"T_58b16686_84ba_11ea_915e_185680f6e586row11_col4\" class=\"data row11 col4\" >0.8</td>\n",
       "                        <td id=\"T_58b16686_84ba_11ea_915e_185680f6e586row11_col5\" class=\"data row11 col5\" >1.2</td>\n",
       "                        <td id=\"T_58b16686_84ba_11ea_915e_185680f6e586row11_col6\" class=\"data row11 col6\" >-2</td>\n",
       "                        <td id=\"T_58b16686_84ba_11ea_915e_185680f6e586row11_col7\" class=\"data row11 col7\" >3.8</td>\n",
       "                        <td id=\"T_58b16686_84ba_11ea_915e_185680f6e586row11_col8\" class=\"data row11 col8\" >6.1</td>\n",
       "                        <td id=\"T_58b16686_84ba_11ea_915e_185680f6e586row11_col9\" class=\"data row11 col9\" >2.9</td>\n",
       "            </tr>\n",
       "            <tr>\n",
       "                        <th id=\"T_58b16686_84ba_11ea_915e_185680f6e586level0_row12\" class=\"row_heading level0 row12\" >12</th>\n",
       "                        <td id=\"T_58b16686_84ba_11ea_915e_185680f6e586row12_col0\" class=\"data row12 col0\" >2016</td>\n",
       "                        <td id=\"T_58b16686_84ba_11ea_915e_185680f6e586row12_col1\" class=\"data row12 col1\" >6.8</td>\n",
       "                        <td id=\"T_58b16686_84ba_11ea_915e_185680f6e586row12_col2\" class=\"data row12 col2\" >1.1</td>\n",
       "                        <td id=\"T_58b16686_84ba_11ea_915e_185680f6e586row12_col3\" class=\"data row12 col3\" >2.2</td>\n",
       "                        <td id=\"T_58b16686_84ba_11ea_915e_185680f6e586row12_col4\" class=\"data row12 col4\" >1.3</td>\n",
       "                        <td id=\"T_58b16686_84ba_11ea_915e_185680f6e586row12_col5\" class=\"data row12 col5\" >1.1</td>\n",
       "                        <td id=\"T_58b16686_84ba_11ea_915e_185680f6e586row12_col6\" class=\"data row12 col6\" >0.3</td>\n",
       "                        <td id=\"T_58b16686_84ba_11ea_915e_185680f6e586row12_col7\" class=\"data row12 col7\" >3</td>\n",
       "                        <td id=\"T_58b16686_84ba_11ea_915e_185680f6e586row12_col8\" class=\"data row12 col8\" >3.2</td>\n",
       "                        <td id=\"T_58b16686_84ba_11ea_915e_185680f6e586row12_col9\" class=\"data row12 col9\" >1.6</td>\n",
       "            </tr>\n",
       "            <tr>\n",
       "                        <th id=\"T_58b16686_84ba_11ea_915e_185680f6e586level0_row13\" class=\"row_heading level0 row13\" >13</th>\n",
       "                        <td id=\"T_58b16686_84ba_11ea_915e_185680f6e586row13_col0\" class=\"data row13 col0\" >2017</td>\n",
       "                        <td id=\"T_58b16686_84ba_11ea_915e_185680f6e586row13_col1\" class=\"data row13 col1\" >6.6</td>\n",
       "                        <td id=\"T_58b16686_84ba_11ea_915e_185680f6e586row13_col2\" class=\"data row13 col2\" >2.3</td>\n",
       "                        <td id=\"T_58b16686_84ba_11ea_915e_185680f6e586row13_col3\" class=\"data row13 col3\" >2.5</td>\n",
       "                        <td id=\"T_58b16686_84ba_11ea_915e_185680f6e586row13_col4\" class=\"data row13 col4\" >1.7</td>\n",
       "                        <td id=\"T_58b16686_84ba_11ea_915e_185680f6e586row13_col5\" class=\"data row13 col5\" >4.1</td>\n",
       "                        <td id=\"T_58b16686_84ba_11ea_915e_185680f6e586row13_col6\" class=\"data row13 col6\" >1.8</td>\n",
       "                        <td id=\"T_58b16686_84ba_11ea_915e_185680f6e586row13_col7\" class=\"data row13 col7\" >2.9</td>\n",
       "                        <td id=\"T_58b16686_84ba_11ea_915e_185680f6e586row13_col8\" class=\"data row13 col8\" >7.5</td>\n",
       "                        <td id=\"T_58b16686_84ba_11ea_915e_185680f6e586row13_col9\" class=\"data row13 col9\" >2.4</td>\n",
       "            </tr>\n",
       "            <tr>\n",
       "                        <th id=\"T_58b16686_84ba_11ea_915e_185680f6e586level0_row14\" class=\"row_heading level0 row14\" >14</th>\n",
       "                        <td id=\"T_58b16686_84ba_11ea_915e_185680f6e586row14_col0\" class=\"data row14 col0\" >2018</td>\n",
       "                        <td id=\"T_58b16686_84ba_11ea_915e_185680f6e586row14_col1\" class=\"data row14 col1\" >6.7</td>\n",
       "                        <td id=\"T_58b16686_84ba_11ea_915e_185680f6e586row14_col2\" class=\"data row14 col2\" >1.7</td>\n",
       "                        <td id=\"T_58b16686_84ba_11ea_915e_185680f6e586row14_col3\" class=\"data row14 col3\" >1.5</td>\n",
       "                        <td id=\"T_58b16686_84ba_11ea_915e_185680f6e586row14_col4\" class=\"data row14 col4\" >0.8</td>\n",
       "                        <td id=\"T_58b16686_84ba_11ea_915e_185680f6e586row14_col5\" class=\"data row14 col5\" >4.1</td>\n",
       "                        <td id=\"T_58b16686_84ba_11ea_915e_185680f6e586row14_col6\" class=\"data row14 col6\" >2.5</td>\n",
       "                        <td id=\"T_58b16686_84ba_11ea_915e_185680f6e586row14_col7\" class=\"data row14 col7\" >2.4</td>\n",
       "                        <td id=\"T_58b16686_84ba_11ea_915e_185680f6e586row14_col8\" class=\"data row14 col8\" >2.8</td>\n",
       "                        <td id=\"T_58b16686_84ba_11ea_915e_185680f6e586row14_col9\" class=\"data row14 col9\" >2.9</td>\n",
       "            </tr>\n",
       "            <tr>\n",
       "                        <th id=\"T_58b16686_84ba_11ea_915e_185680f6e586level0_row15\" class=\"row_heading level0 row15\" >15</th>\n",
       "                        <td id=\"T_58b16686_84ba_11ea_915e_185680f6e586row15_col0\" class=\"data row15 col0\" >2019</td>\n",
       "                        <td id=\"T_58b16686_84ba_11ea_915e_185680f6e586row15_col1\" class=\"data row15 col1\" >6.1</td>\n",
       "                        <td id=\"T_58b16686_84ba_11ea_915e_185680f6e586row15_col2\" class=\"data row15 col2\" >1.3</td>\n",
       "                        <td id=\"T_58b16686_84ba_11ea_915e_185680f6e586row15_col3\" class=\"data row15 col3\" >0.6</td>\n",
       "                        <td id=\"T_58b16686_84ba_11ea_915e_185680f6e586row15_col4\" class=\"data row15 col4\" >0.3</td>\n",
       "                        <td id=\"T_58b16686_84ba_11ea_915e_185680f6e586row15_col5\" class=\"data row15 col5\" >4.5</td>\n",
       "                        <td id=\"T_58b16686_84ba_11ea_915e_185680f6e586row15_col6\" class=\"data row15 col6\" >1.3</td>\n",
       "                        <td id=\"T_58b16686_84ba_11ea_915e_185680f6e586row15_col7\" class=\"data row15 col7\" >2</td>\n",
       "                        <td id=\"T_58b16686_84ba_11ea_915e_185680f6e586row15_col8\" class=\"data row15 col8\" >0.9</td>\n",
       "                        <td id=\"T_58b16686_84ba_11ea_915e_185680f6e586row15_col9\" class=\"data row15 col9\" >2.3</td>\n",
       "            </tr>\n",
       "            <tr>\n",
       "                        <th id=\"T_58b16686_84ba_11ea_915e_185680f6e586level0_row16\" class=\"row_heading level0 row16\" >16</th>\n",
       "                        <td id=\"T_58b16686_84ba_11ea_915e_185680f6e586row16_col0\" class=\"data row16 col0\" >2020</td>\n",
       "                        <td id=\"T_58b16686_84ba_11ea_915e_185680f6e586row16_col1\" class=\"data row16 col1\" >1.2</td>\n",
       "                        <td id=\"T_58b16686_84ba_11ea_915e_185680f6e586row16_col2\" class=\"data row16 col2\" >-7.2</td>\n",
       "                        <td id=\"T_58b16686_84ba_11ea_915e_185680f6e586row16_col3\" class=\"data row16 col3\" >-7</td>\n",
       "                        <td id=\"T_58b16686_84ba_11ea_915e_185680f6e586row16_col4\" class=\"data row16 col4\" >-9.1</td>\n",
       "                        <td id=\"T_58b16686_84ba_11ea_915e_185680f6e586row16_col5\" class=\"data row16 col5\" >-2.5</td>\n",
       "                        <td id=\"T_58b16686_84ba_11ea_915e_185680f6e586row16_col6\" class=\"data row16 col6\" >-5.5</td>\n",
       "                        <td id=\"T_58b16686_84ba_11ea_915e_185680f6e586row16_col7\" class=\"data row16 col7\" >-8</td>\n",
       "                        <td id=\"T_58b16686_84ba_11ea_915e_185680f6e586row16_col8\" class=\"data row16 col8\" >-5</td>\n",
       "                        <td id=\"T_58b16686_84ba_11ea_915e_185680f6e586row16_col9\" class=\"data row16 col9\" >-5.9</td>\n",
       "            </tr>\n",
       "    </tbody></table>"
      ],
      "text/plain": [
       "<pandas.io.formats.style.Styler at 0x21c922864e0>"
      ]
     },
     "execution_count": 28,
     "metadata": {},
     "output_type": "execute_result"
    }
   ],
   "source": [
    "temp_f = dataset.sort_values(by='Date', ascending=True)\n",
    "temp_f = temp_f.reset_index(drop=True)\n",
    "dataset.style.background_gradient(cmap='OrRd')"
   ]
  },
  {
   "cell_type": "code",
   "execution_count": 29,
   "metadata": {},
   "outputs": [
    {
     "data": {
      "application/vnd.plotly.v1+json": {
       "config": {
        "plotlyServerURL": "https://plot.ly"
       },
       "data": [
        {
         "alignmentgroup": "True",
         "hovertemplate": "Case=GDP<br>Date=%{x}<br>Count=%{y}<extra></extra>",
         "legendgroup": "GDP",
         "marker": {
          "color": "#636efa"
         },
         "name": "GDP",
         "offsetgroup": "GDP",
         "orientation": "v",
         "showlegend": true,
         "textposition": "auto",
         "type": "bar",
         "x": [
          2004,
          2005,
          2006,
          2007,
          2008,
          2009,
          2010,
          2011,
          2012,
          2013,
          2014,
          2015,
          2016,
          2017,
          2018,
          2019,
          2020
         ],
         "xaxis": "x",
         "y": [
          7.2,
          6.4,
          8.2,
          8.5,
          5.2,
          -7.8,
          4.5,
          5.1,
          3.7,
          1.8,
          0.7,
          -2,
          0.3,
          1.8,
          2.5,
          1.3,
          -2.6
         ],
         "yaxis": "y"
        }
       ],
       "layout": {
        "annotations": [
         {
          "font": {},
          "showarrow": false,
          "text": "Case=GDP",
          "x": 0.5,
          "xanchor": "center",
          "xref": "paper",
          "y": 1,
          "yanchor": "bottom",
          "yref": "paper"
         }
        ],
        "barmode": "relative",
        "legend": {
         "title": {
          "text": "Case"
         },
         "tracegroupgap": 0
        },
        "template": {
         "data": {
          "bar": [
           {
            "error_x": {
             "color": "#2a3f5f"
            },
            "error_y": {
             "color": "#2a3f5f"
            },
            "marker": {
             "line": {
              "color": "#E5ECF6",
              "width": 0.5
             }
            },
            "type": "bar"
           }
          ],
          "barpolar": [
           {
            "marker": {
             "line": {
              "color": "#E5ECF6",
              "width": 0.5
             }
            },
            "type": "barpolar"
           }
          ],
          "carpet": [
           {
            "aaxis": {
             "endlinecolor": "#2a3f5f",
             "gridcolor": "white",
             "linecolor": "white",
             "minorgridcolor": "white",
             "startlinecolor": "#2a3f5f"
            },
            "baxis": {
             "endlinecolor": "#2a3f5f",
             "gridcolor": "white",
             "linecolor": "white",
             "minorgridcolor": "white",
             "startlinecolor": "#2a3f5f"
            },
            "type": "carpet"
           }
          ],
          "choropleth": [
           {
            "colorbar": {
             "outlinewidth": 0,
             "ticks": ""
            },
            "type": "choropleth"
           }
          ],
          "contour": [
           {
            "colorbar": {
             "outlinewidth": 0,
             "ticks": ""
            },
            "colorscale": [
             [
              0,
              "#0d0887"
             ],
             [
              0.1111111111111111,
              "#46039f"
             ],
             [
              0.2222222222222222,
              "#7201a8"
             ],
             [
              0.3333333333333333,
              "#9c179e"
             ],
             [
              0.4444444444444444,
              "#bd3786"
             ],
             [
              0.5555555555555556,
              "#d8576b"
             ],
             [
              0.6666666666666666,
              "#ed7953"
             ],
             [
              0.7777777777777778,
              "#fb9f3a"
             ],
             [
              0.8888888888888888,
              "#fdca26"
             ],
             [
              1,
              "#f0f921"
             ]
            ],
            "type": "contour"
           }
          ],
          "contourcarpet": [
           {
            "colorbar": {
             "outlinewidth": 0,
             "ticks": ""
            },
            "type": "contourcarpet"
           }
          ],
          "heatmap": [
           {
            "colorbar": {
             "outlinewidth": 0,
             "ticks": ""
            },
            "colorscale": [
             [
              0,
              "#0d0887"
             ],
             [
              0.1111111111111111,
              "#46039f"
             ],
             [
              0.2222222222222222,
              "#7201a8"
             ],
             [
              0.3333333333333333,
              "#9c179e"
             ],
             [
              0.4444444444444444,
              "#bd3786"
             ],
             [
              0.5555555555555556,
              "#d8576b"
             ],
             [
              0.6666666666666666,
              "#ed7953"
             ],
             [
              0.7777777777777778,
              "#fb9f3a"
             ],
             [
              0.8888888888888888,
              "#fdca26"
             ],
             [
              1,
              "#f0f921"
             ]
            ],
            "type": "heatmap"
           }
          ],
          "heatmapgl": [
           {
            "colorbar": {
             "outlinewidth": 0,
             "ticks": ""
            },
            "colorscale": [
             [
              0,
              "#0d0887"
             ],
             [
              0.1111111111111111,
              "#46039f"
             ],
             [
              0.2222222222222222,
              "#7201a8"
             ],
             [
              0.3333333333333333,
              "#9c179e"
             ],
             [
              0.4444444444444444,
              "#bd3786"
             ],
             [
              0.5555555555555556,
              "#d8576b"
             ],
             [
              0.6666666666666666,
              "#ed7953"
             ],
             [
              0.7777777777777778,
              "#fb9f3a"
             ],
             [
              0.8888888888888888,
              "#fdca26"
             ],
             [
              1,
              "#f0f921"
             ]
            ],
            "type": "heatmapgl"
           }
          ],
          "histogram": [
           {
            "marker": {
             "colorbar": {
              "outlinewidth": 0,
              "ticks": ""
             }
            },
            "type": "histogram"
           }
          ],
          "histogram2d": [
           {
            "colorbar": {
             "outlinewidth": 0,
             "ticks": ""
            },
            "colorscale": [
             [
              0,
              "#0d0887"
             ],
             [
              0.1111111111111111,
              "#46039f"
             ],
             [
              0.2222222222222222,
              "#7201a8"
             ],
             [
              0.3333333333333333,
              "#9c179e"
             ],
             [
              0.4444444444444444,
              "#bd3786"
             ],
             [
              0.5555555555555556,
              "#d8576b"
             ],
             [
              0.6666666666666666,
              "#ed7953"
             ],
             [
              0.7777777777777778,
              "#fb9f3a"
             ],
             [
              0.8888888888888888,
              "#fdca26"
             ],
             [
              1,
              "#f0f921"
             ]
            ],
            "type": "histogram2d"
           }
          ],
          "histogram2dcontour": [
           {
            "colorbar": {
             "outlinewidth": 0,
             "ticks": ""
            },
            "colorscale": [
             [
              0,
              "#0d0887"
             ],
             [
              0.1111111111111111,
              "#46039f"
             ],
             [
              0.2222222222222222,
              "#7201a8"
             ],
             [
              0.3333333333333333,
              "#9c179e"
             ],
             [
              0.4444444444444444,
              "#bd3786"
             ],
             [
              0.5555555555555556,
              "#d8576b"
             ],
             [
              0.6666666666666666,
              "#ed7953"
             ],
             [
              0.7777777777777778,
              "#fb9f3a"
             ],
             [
              0.8888888888888888,
              "#fdca26"
             ],
             [
              1,
              "#f0f921"
             ]
            ],
            "type": "histogram2dcontour"
           }
          ],
          "mesh3d": [
           {
            "colorbar": {
             "outlinewidth": 0,
             "ticks": ""
            },
            "type": "mesh3d"
           }
          ],
          "parcoords": [
           {
            "line": {
             "colorbar": {
              "outlinewidth": 0,
              "ticks": ""
             }
            },
            "type": "parcoords"
           }
          ],
          "pie": [
           {
            "automargin": true,
            "type": "pie"
           }
          ],
          "scatter": [
           {
            "marker": {
             "colorbar": {
              "outlinewidth": 0,
              "ticks": ""
             }
            },
            "type": "scatter"
           }
          ],
          "scatter3d": [
           {
            "line": {
             "colorbar": {
              "outlinewidth": 0,
              "ticks": ""
             }
            },
            "marker": {
             "colorbar": {
              "outlinewidth": 0,
              "ticks": ""
             }
            },
            "type": "scatter3d"
           }
          ],
          "scattercarpet": [
           {
            "marker": {
             "colorbar": {
              "outlinewidth": 0,
              "ticks": ""
             }
            },
            "type": "scattercarpet"
           }
          ],
          "scattergeo": [
           {
            "marker": {
             "colorbar": {
              "outlinewidth": 0,
              "ticks": ""
             }
            },
            "type": "scattergeo"
           }
          ],
          "scattergl": [
           {
            "marker": {
             "colorbar": {
              "outlinewidth": 0,
              "ticks": ""
             }
            },
            "type": "scattergl"
           }
          ],
          "scattermapbox": [
           {
            "marker": {
             "colorbar": {
              "outlinewidth": 0,
              "ticks": ""
             }
            },
            "type": "scattermapbox"
           }
          ],
          "scatterpolar": [
           {
            "marker": {
             "colorbar": {
              "outlinewidth": 0,
              "ticks": ""
             }
            },
            "type": "scatterpolar"
           }
          ],
          "scatterpolargl": [
           {
            "marker": {
             "colorbar": {
              "outlinewidth": 0,
              "ticks": ""
             }
            },
            "type": "scatterpolargl"
           }
          ],
          "scatterternary": [
           {
            "marker": {
             "colorbar": {
              "outlinewidth": 0,
              "ticks": ""
             }
            },
            "type": "scatterternary"
           }
          ],
          "surface": [
           {
            "colorbar": {
             "outlinewidth": 0,
             "ticks": ""
            },
            "colorscale": [
             [
              0,
              "#0d0887"
             ],
             [
              0.1111111111111111,
              "#46039f"
             ],
             [
              0.2222222222222222,
              "#7201a8"
             ],
             [
              0.3333333333333333,
              "#9c179e"
             ],
             [
              0.4444444444444444,
              "#bd3786"
             ],
             [
              0.5555555555555556,
              "#d8576b"
             ],
             [
              0.6666666666666666,
              "#ed7953"
             ],
             [
              0.7777777777777778,
              "#fb9f3a"
             ],
             [
              0.8888888888888888,
              "#fdca26"
             ],
             [
              1,
              "#f0f921"
             ]
            ],
            "type": "surface"
           }
          ],
          "table": [
           {
            "cells": {
             "fill": {
              "color": "#EBF0F8"
             },
             "line": {
              "color": "white"
             }
            },
            "header": {
             "fill": {
              "color": "#C8D4E3"
             },
             "line": {
              "color": "white"
             }
            },
            "type": "table"
           }
          ]
         },
         "layout": {
          "annotationdefaults": {
           "arrowcolor": "#2a3f5f",
           "arrowhead": 0,
           "arrowwidth": 1
          },
          "coloraxis": {
           "colorbar": {
            "outlinewidth": 0,
            "ticks": ""
           }
          },
          "colorscale": {
           "diverging": [
            [
             0,
             "#8e0152"
            ],
            [
             0.1,
             "#c51b7d"
            ],
            [
             0.2,
             "#de77ae"
            ],
            [
             0.3,
             "#f1b6da"
            ],
            [
             0.4,
             "#fde0ef"
            ],
            [
             0.5,
             "#f7f7f7"
            ],
            [
             0.6,
             "#e6f5d0"
            ],
            [
             0.7,
             "#b8e186"
            ],
            [
             0.8,
             "#7fbc41"
            ],
            [
             0.9,
             "#4d9221"
            ],
            [
             1,
             "#276419"
            ]
           ],
           "sequential": [
            [
             0,
             "#0d0887"
            ],
            [
             0.1111111111111111,
             "#46039f"
            ],
            [
             0.2222222222222222,
             "#7201a8"
            ],
            [
             0.3333333333333333,
             "#9c179e"
            ],
            [
             0.4444444444444444,
             "#bd3786"
            ],
            [
             0.5555555555555556,
             "#d8576b"
            ],
            [
             0.6666666666666666,
             "#ed7953"
            ],
            [
             0.7777777777777778,
             "#fb9f3a"
            ],
            [
             0.8888888888888888,
             "#fdca26"
            ],
            [
             1,
             "#f0f921"
            ]
           ],
           "sequentialminus": [
            [
             0,
             "#0d0887"
            ],
            [
             0.1111111111111111,
             "#46039f"
            ],
            [
             0.2222222222222222,
             "#7201a8"
            ],
            [
             0.3333333333333333,
             "#9c179e"
            ],
            [
             0.4444444444444444,
             "#bd3786"
            ],
            [
             0.5555555555555556,
             "#d8576b"
            ],
            [
             0.6666666666666666,
             "#ed7953"
            ],
            [
             0.7777777777777778,
             "#fb9f3a"
            ],
            [
             0.8888888888888888,
             "#fdca26"
            ],
            [
             1,
             "#f0f921"
            ]
           ]
          },
          "colorway": [
           "#636efa",
           "#EF553B",
           "#00cc96",
           "#ab63fa",
           "#FFA15A",
           "#19d3f3",
           "#FF6692",
           "#B6E880",
           "#FF97FF",
           "#FECB52"
          ],
          "font": {
           "color": "#2a3f5f"
          },
          "geo": {
           "bgcolor": "white",
           "lakecolor": "white",
           "landcolor": "#E5ECF6",
           "showlakes": true,
           "showland": true,
           "subunitcolor": "white"
          },
          "hoverlabel": {
           "align": "left"
          },
          "hovermode": "closest",
          "mapbox": {
           "style": "light"
          },
          "paper_bgcolor": "white",
          "plot_bgcolor": "#E5ECF6",
          "polar": {
           "angularaxis": {
            "gridcolor": "white",
            "linecolor": "white",
            "ticks": ""
           },
           "bgcolor": "#E5ECF6",
           "radialaxis": {
            "gridcolor": "white",
            "linecolor": "white",
            "ticks": ""
           }
          },
          "scene": {
           "xaxis": {
            "backgroundcolor": "#E5ECF6",
            "gridcolor": "white",
            "gridwidth": 2,
            "linecolor": "white",
            "showbackground": true,
            "ticks": "",
            "zerolinecolor": "white"
           },
           "yaxis": {
            "backgroundcolor": "#E5ECF6",
            "gridcolor": "white",
            "gridwidth": 2,
            "linecolor": "white",
            "showbackground": true,
            "ticks": "",
            "zerolinecolor": "white"
           },
           "zaxis": {
            "backgroundcolor": "#E5ECF6",
            "gridcolor": "white",
            "gridwidth": 2,
            "linecolor": "white",
            "showbackground": true,
            "ticks": "",
            "zerolinecolor": "white"
           }
          },
          "shapedefaults": {
           "line": {
            "color": "#2a3f5f"
           }
          },
          "ternary": {
           "aaxis": {
            "gridcolor": "white",
            "linecolor": "white",
            "ticks": ""
           },
           "baxis": {
            "gridcolor": "white",
            "linecolor": "white",
            "ticks": ""
           },
           "bgcolor": "#E5ECF6",
           "caxis": {
            "gridcolor": "white",
            "linecolor": "white",
            "ticks": ""
           }
          },
          "title": {
           "x": 0.05
          },
          "xaxis": {
           "automargin": true,
           "gridcolor": "white",
           "linecolor": "white",
           "ticks": "",
           "title": {
            "standoff": 15
           },
           "zerolinecolor": "white",
           "zerolinewidth": 2
          },
          "yaxis": {
           "automargin": true,
           "gridcolor": "white",
           "linecolor": "white",
           "ticks": "",
           "title": {
            "standoff": 15
           },
           "zerolinecolor": "white",
           "zerolinewidth": 2
          }
         }
        },
        "title": {
         "text": "Russian F GDP"
        },
        "xaxis": {
         "anchor": "y",
         "domain": [
          0,
          1
         ],
         "title": {
          "text": "Date"
         }
        },
        "yaxis": {
         "anchor": "x",
         "domain": [
          0,
          1
         ],
         "title": {
          "text": "Count"
         }
        }
       }
      },
      "text/html": [
       "<div>\n",
       "        \n",
       "        \n",
       "            <div id=\"429868f8-247a-4381-93bf-26d0a65c58a4\" class=\"plotly-graph-div\" style=\"height:525px; width:100%;\"></div>\n",
       "            <script type=\"text/javascript\">\n",
       "                require([\"plotly\"], function(Plotly) {\n",
       "                    window.PLOTLYENV=window.PLOTLYENV || {};\n",
       "                    \n",
       "                if (document.getElementById(\"429868f8-247a-4381-93bf-26d0a65c58a4\")) {\n",
       "                    Plotly.newPlot(\n",
       "                        '429868f8-247a-4381-93bf-26d0a65c58a4',\n",
       "                        [{\"alignmentgroup\": \"True\", \"hovertemplate\": \"Case=GDP<br>Date=%{x}<br>Count=%{y}<extra></extra>\", \"legendgroup\": \"GDP\", \"marker\": {\"color\": \"#636efa\"}, \"name\": \"GDP\", \"offsetgroup\": \"GDP\", \"orientation\": \"v\", \"showlegend\": true, \"textposition\": \"auto\", \"type\": \"bar\", \"x\": [2004, 2005, 2006, 2007, 2008, 2009, 2010, 2011, 2012, 2013, 2014, 2015, 2016, 2017, 2018, 2019, 2020], \"xaxis\": \"x\", \"y\": [7.2, 6.4, 8.2, 8.5, 5.2, -7.8, 4.5, 5.1, 3.7, 1.8, 0.7, -2.0, 0.3, 1.8, 2.5, 1.3, -2.6], \"yaxis\": \"y\"}],\n",
       "                        {\"annotations\": [{\"font\": {}, \"showarrow\": false, \"text\": \"Case=GDP\", \"x\": 0.5, \"xanchor\": \"center\", \"xref\": \"paper\", \"y\": 1.0, \"yanchor\": \"bottom\", \"yref\": \"paper\"}], \"barmode\": \"relative\", \"legend\": {\"title\": {\"text\": \"Case\"}, \"tracegroupgap\": 0}, \"template\": {\"data\": {\"bar\": [{\"error_x\": {\"color\": \"#2a3f5f\"}, \"error_y\": {\"color\": \"#2a3f5f\"}, \"marker\": {\"line\": {\"color\": \"#E5ECF6\", \"width\": 0.5}}, \"type\": \"bar\"}], \"barpolar\": [{\"marker\": {\"line\": {\"color\": \"#E5ECF6\", \"width\": 0.5}}, \"type\": \"barpolar\"}], \"carpet\": [{\"aaxis\": {\"endlinecolor\": \"#2a3f5f\", \"gridcolor\": \"white\", \"linecolor\": \"white\", \"minorgridcolor\": \"white\", \"startlinecolor\": \"#2a3f5f\"}, \"baxis\": {\"endlinecolor\": \"#2a3f5f\", \"gridcolor\": \"white\", \"linecolor\": \"white\", \"minorgridcolor\": \"white\", \"startlinecolor\": \"#2a3f5f\"}, \"type\": \"carpet\"}], \"choropleth\": [{\"colorbar\": {\"outlinewidth\": 0, \"ticks\": \"\"}, \"type\": \"choropleth\"}], \"contour\": [{\"colorbar\": {\"outlinewidth\": 0, \"ticks\": \"\"}, \"colorscale\": [[0.0, \"#0d0887\"], [0.1111111111111111, \"#46039f\"], [0.2222222222222222, \"#7201a8\"], [0.3333333333333333, \"#9c179e\"], [0.4444444444444444, \"#bd3786\"], [0.5555555555555556, \"#d8576b\"], [0.6666666666666666, \"#ed7953\"], [0.7777777777777778, \"#fb9f3a\"], [0.8888888888888888, \"#fdca26\"], [1.0, \"#f0f921\"]], \"type\": \"contour\"}], \"contourcarpet\": [{\"colorbar\": {\"outlinewidth\": 0, \"ticks\": \"\"}, \"type\": \"contourcarpet\"}], \"heatmap\": [{\"colorbar\": {\"outlinewidth\": 0, \"ticks\": \"\"}, \"colorscale\": [[0.0, \"#0d0887\"], [0.1111111111111111, \"#46039f\"], [0.2222222222222222, \"#7201a8\"], [0.3333333333333333, \"#9c179e\"], [0.4444444444444444, \"#bd3786\"], [0.5555555555555556, \"#d8576b\"], [0.6666666666666666, \"#ed7953\"], [0.7777777777777778, \"#fb9f3a\"], [0.8888888888888888, \"#fdca26\"], [1.0, \"#f0f921\"]], \"type\": \"heatmap\"}], \"heatmapgl\": [{\"colorbar\": {\"outlinewidth\": 0, \"ticks\": \"\"}, \"colorscale\": [[0.0, \"#0d0887\"], [0.1111111111111111, \"#46039f\"], [0.2222222222222222, \"#7201a8\"], [0.3333333333333333, \"#9c179e\"], [0.4444444444444444, \"#bd3786\"], [0.5555555555555556, \"#d8576b\"], [0.6666666666666666, \"#ed7953\"], [0.7777777777777778, \"#fb9f3a\"], [0.8888888888888888, \"#fdca26\"], [1.0, \"#f0f921\"]], \"type\": \"heatmapgl\"}], \"histogram\": [{\"marker\": {\"colorbar\": {\"outlinewidth\": 0, \"ticks\": \"\"}}, \"type\": \"histogram\"}], \"histogram2d\": [{\"colorbar\": {\"outlinewidth\": 0, \"ticks\": \"\"}, \"colorscale\": [[0.0, \"#0d0887\"], [0.1111111111111111, \"#46039f\"], [0.2222222222222222, \"#7201a8\"], [0.3333333333333333, \"#9c179e\"], [0.4444444444444444, \"#bd3786\"], [0.5555555555555556, \"#d8576b\"], [0.6666666666666666, \"#ed7953\"], [0.7777777777777778, \"#fb9f3a\"], [0.8888888888888888, \"#fdca26\"], [1.0, \"#f0f921\"]], \"type\": \"histogram2d\"}], \"histogram2dcontour\": [{\"colorbar\": {\"outlinewidth\": 0, \"ticks\": \"\"}, \"colorscale\": [[0.0, \"#0d0887\"], [0.1111111111111111, \"#46039f\"], [0.2222222222222222, \"#7201a8\"], [0.3333333333333333, \"#9c179e\"], [0.4444444444444444, \"#bd3786\"], [0.5555555555555556, \"#d8576b\"], [0.6666666666666666, \"#ed7953\"], [0.7777777777777778, \"#fb9f3a\"], [0.8888888888888888, \"#fdca26\"], [1.0, \"#f0f921\"]], \"type\": \"histogram2dcontour\"}], \"mesh3d\": [{\"colorbar\": {\"outlinewidth\": 0, \"ticks\": \"\"}, \"type\": \"mesh3d\"}], \"parcoords\": [{\"line\": {\"colorbar\": {\"outlinewidth\": 0, \"ticks\": \"\"}}, \"type\": \"parcoords\"}], \"pie\": [{\"automargin\": true, \"type\": \"pie\"}], \"scatter\": [{\"marker\": {\"colorbar\": {\"outlinewidth\": 0, \"ticks\": \"\"}}, \"type\": \"scatter\"}], \"scatter3d\": [{\"line\": {\"colorbar\": {\"outlinewidth\": 0, \"ticks\": \"\"}}, \"marker\": {\"colorbar\": {\"outlinewidth\": 0, \"ticks\": \"\"}}, \"type\": \"scatter3d\"}], \"scattercarpet\": [{\"marker\": {\"colorbar\": {\"outlinewidth\": 0, \"ticks\": \"\"}}, \"type\": \"scattercarpet\"}], \"scattergeo\": [{\"marker\": {\"colorbar\": {\"outlinewidth\": 0, \"ticks\": \"\"}}, \"type\": \"scattergeo\"}], \"scattergl\": [{\"marker\": {\"colorbar\": {\"outlinewidth\": 0, \"ticks\": \"\"}}, \"type\": \"scattergl\"}], \"scattermapbox\": [{\"marker\": {\"colorbar\": {\"outlinewidth\": 0, \"ticks\": \"\"}}, \"type\": \"scattermapbox\"}], \"scatterpolar\": [{\"marker\": {\"colorbar\": {\"outlinewidth\": 0, \"ticks\": \"\"}}, \"type\": \"scatterpolar\"}], \"scatterpolargl\": [{\"marker\": {\"colorbar\": {\"outlinewidth\": 0, \"ticks\": \"\"}}, \"type\": \"scatterpolargl\"}], \"scatterternary\": [{\"marker\": {\"colorbar\": {\"outlinewidth\": 0, \"ticks\": \"\"}}, \"type\": \"scatterternary\"}], \"surface\": [{\"colorbar\": {\"outlinewidth\": 0, \"ticks\": \"\"}, \"colorscale\": [[0.0, \"#0d0887\"], [0.1111111111111111, \"#46039f\"], [0.2222222222222222, \"#7201a8\"], [0.3333333333333333, \"#9c179e\"], [0.4444444444444444, \"#bd3786\"], [0.5555555555555556, \"#d8576b\"], [0.6666666666666666, \"#ed7953\"], [0.7777777777777778, \"#fb9f3a\"], [0.8888888888888888, \"#fdca26\"], [1.0, \"#f0f921\"]], \"type\": \"surface\"}], \"table\": [{\"cells\": {\"fill\": {\"color\": \"#EBF0F8\"}, \"line\": {\"color\": \"white\"}}, \"header\": {\"fill\": {\"color\": \"#C8D4E3\"}, \"line\": {\"color\": \"white\"}}, \"type\": \"table\"}]}, \"layout\": {\"annotationdefaults\": {\"arrowcolor\": \"#2a3f5f\", \"arrowhead\": 0, \"arrowwidth\": 1}, \"coloraxis\": {\"colorbar\": {\"outlinewidth\": 0, \"ticks\": \"\"}}, \"colorscale\": {\"diverging\": [[0, \"#8e0152\"], [0.1, \"#c51b7d\"], [0.2, \"#de77ae\"], [0.3, \"#f1b6da\"], [0.4, \"#fde0ef\"], [0.5, \"#f7f7f7\"], [0.6, \"#e6f5d0\"], [0.7, \"#b8e186\"], [0.8, \"#7fbc41\"], [0.9, \"#4d9221\"], [1, \"#276419\"]], \"sequential\": [[0.0, \"#0d0887\"], [0.1111111111111111, \"#46039f\"], [0.2222222222222222, \"#7201a8\"], [0.3333333333333333, \"#9c179e\"], [0.4444444444444444, \"#bd3786\"], [0.5555555555555556, \"#d8576b\"], [0.6666666666666666, \"#ed7953\"], [0.7777777777777778, \"#fb9f3a\"], [0.8888888888888888, \"#fdca26\"], [1.0, \"#f0f921\"]], \"sequentialminus\": [[0.0, \"#0d0887\"], [0.1111111111111111, \"#46039f\"], [0.2222222222222222, \"#7201a8\"], [0.3333333333333333, \"#9c179e\"], [0.4444444444444444, \"#bd3786\"], [0.5555555555555556, \"#d8576b\"], [0.6666666666666666, \"#ed7953\"], [0.7777777777777778, \"#fb9f3a\"], [0.8888888888888888, \"#fdca26\"], [1.0, \"#f0f921\"]]}, \"colorway\": [\"#636efa\", \"#EF553B\", \"#00cc96\", \"#ab63fa\", \"#FFA15A\", \"#19d3f3\", \"#FF6692\", \"#B6E880\", \"#FF97FF\", \"#FECB52\"], \"font\": {\"color\": \"#2a3f5f\"}, \"geo\": {\"bgcolor\": \"white\", \"lakecolor\": \"white\", \"landcolor\": \"#E5ECF6\", \"showlakes\": true, \"showland\": true, \"subunitcolor\": \"white\"}, \"hoverlabel\": {\"align\": \"left\"}, \"hovermode\": \"closest\", \"mapbox\": {\"style\": \"light\"}, \"paper_bgcolor\": \"white\", \"plot_bgcolor\": \"#E5ECF6\", \"polar\": {\"angularaxis\": {\"gridcolor\": \"white\", \"linecolor\": \"white\", \"ticks\": \"\"}, \"bgcolor\": \"#E5ECF6\", \"radialaxis\": {\"gridcolor\": \"white\", \"linecolor\": \"white\", \"ticks\": \"\"}}, \"scene\": {\"xaxis\": {\"backgroundcolor\": \"#E5ECF6\", \"gridcolor\": \"white\", \"gridwidth\": 2, \"linecolor\": \"white\", \"showbackground\": true, \"ticks\": \"\", \"zerolinecolor\": \"white\"}, \"yaxis\": {\"backgroundcolor\": \"#E5ECF6\", \"gridcolor\": \"white\", \"gridwidth\": 2, \"linecolor\": \"white\", \"showbackground\": true, \"ticks\": \"\", \"zerolinecolor\": \"white\"}, \"zaxis\": {\"backgroundcolor\": \"#E5ECF6\", \"gridcolor\": \"white\", \"gridwidth\": 2, \"linecolor\": \"white\", \"showbackground\": true, \"ticks\": \"\", \"zerolinecolor\": \"white\"}}, \"shapedefaults\": {\"line\": {\"color\": \"#2a3f5f\"}}, \"ternary\": {\"aaxis\": {\"gridcolor\": \"white\", \"linecolor\": \"white\", \"ticks\": \"\"}, \"baxis\": {\"gridcolor\": \"white\", \"linecolor\": \"white\", \"ticks\": \"\"}, \"bgcolor\": \"#E5ECF6\", \"caxis\": {\"gridcolor\": \"white\", \"linecolor\": \"white\", \"ticks\": \"\"}}, \"title\": {\"x\": 0.05}, \"xaxis\": {\"automargin\": true, \"gridcolor\": \"white\", \"linecolor\": \"white\", \"ticks\": \"\", \"title\": {\"standoff\": 15}, \"zerolinecolor\": \"white\", \"zerolinewidth\": 2}, \"yaxis\": {\"automargin\": true, \"gridcolor\": \"white\", \"linecolor\": \"white\", \"ticks\": \"\", \"title\": {\"standoff\": 15}, \"zerolinecolor\": \"white\", \"zerolinewidth\": 2}}}, \"title\": {\"text\": \"Russian F GDP\"}, \"xaxis\": {\"anchor\": \"y\", \"domain\": [0.0, 1.0], \"title\": {\"text\": \"Date\"}}, \"yaxis\": {\"anchor\": \"x\", \"domain\": [0.0, 1.0], \"title\": {\"text\": \"Count\"}}},\n",
       "                        {\"responsive\": true}\n",
       "                    ).then(function(){\n",
       "                            \n",
       "var gd = document.getElementById('429868f8-247a-4381-93bf-26d0a65c58a4');\n",
       "var x = new MutationObserver(function (mutations, observer) {{\n",
       "        var display = window.getComputedStyle(gd).display;\n",
       "        if (!display || display === 'none') {{\n",
       "            console.log([gd, 'removed!']);\n",
       "            Plotly.purge(gd);\n",
       "            observer.disconnect();\n",
       "        }}\n",
       "}});\n",
       "\n",
       "// Listen for the removal of the full notebook cells\n",
       "var notebookContainer = gd.closest('#notebook-container');\n",
       "if (notebookContainer) {{\n",
       "    x.observe(notebookContainer, {childList: true});\n",
       "}}\n",
       "\n",
       "// Listen for the clearing of the current output cell\n",
       "var outputEl = gd.closest('.output');\n",
       "if (outputEl) {{\n",
       "    x.observe(outputEl, {childList: true});\n",
       "}}\n",
       "\n",
       "                        })\n",
       "                };\n",
       "                });\n",
       "            </script>\n",
       "        </div>"
      ]
     },
     "metadata": {},
     "output_type": "display_data"
    }
   ],
   "source": [
    "gdfull = dataset2.groupby(['Date', 'Country']).max()\n",
    "gdfull = gdfull.reset_index()\n",
    "\n",
    "temp = gdfull[gdfull['Country']=='Russian Federation'].reset_index()\n",
    "temp = temp.melt(id_vars='Date', value_vars=['GDP'],\n",
    "                var_name='Case', value_name='Count')\n",
    "fig = px.bar(temp, x=\"Date\", y=\"Count\", color='Case', facet_col=\"Case\",\n",
    "            title='Russian F GDP')\n",
    "fig.show()"
   ]
  },
  {
   "cell_type": "code",
   "execution_count": 30,
   "metadata": {},
   "outputs": [
    {
     "data": {
      "application/vnd.plotly.v1+json": {
       "config": {
        "plotlyServerURL": "https://plot.ly"
       },
       "data": [
        {
         "alignmentgroup": "True",
         "hovertemplate": "Case=GDP<br>Date=%{x}<br>Count=%{y}<extra></extra>",
         "legendgroup": "GDP",
         "marker": {
          "color": "#636efa"
         },
         "name": "GDP",
         "offsetgroup": "GDP",
         "orientation": "v",
         "showlegend": true,
         "textposition": "auto",
         "type": "bar",
         "x": [
          2004,
          2005,
          2006,
          2007,
          2008,
          2009,
          2010,
          2011,
          2012,
          2013,
          2014,
          2015,
          2016,
          2017,
          2018,
          2019,
          2020
         ],
         "xaxis": "x",
         "y": [
          10.2,
          11.4,
          12.7,
          14.3,
          9.7,
          9.4,
          10.6,
          9.5,
          7.9,
          7.8,
          7.3,
          6.9,
          6.8,
          6.9,
          6.7,
          6.1,
          1.2
         ],
         "yaxis": "y"
        }
       ],
       "layout": {
        "annotations": [
         {
          "font": {},
          "showarrow": false,
          "text": "Case=GDP",
          "x": 0.5,
          "xanchor": "center",
          "xref": "paper",
          "y": 1,
          "yanchor": "bottom",
          "yref": "paper"
         }
        ],
        "barmode": "relative",
        "legend": {
         "title": {
          "text": "Case"
         },
         "tracegroupgap": 0
        },
        "template": {
         "data": {
          "bar": [
           {
            "error_x": {
             "color": "#2a3f5f"
            },
            "error_y": {
             "color": "#2a3f5f"
            },
            "marker": {
             "line": {
              "color": "#E5ECF6",
              "width": 0.5
             }
            },
            "type": "bar"
           }
          ],
          "barpolar": [
           {
            "marker": {
             "line": {
              "color": "#E5ECF6",
              "width": 0.5
             }
            },
            "type": "barpolar"
           }
          ],
          "carpet": [
           {
            "aaxis": {
             "endlinecolor": "#2a3f5f",
             "gridcolor": "white",
             "linecolor": "white",
             "minorgridcolor": "white",
             "startlinecolor": "#2a3f5f"
            },
            "baxis": {
             "endlinecolor": "#2a3f5f",
             "gridcolor": "white",
             "linecolor": "white",
             "minorgridcolor": "white",
             "startlinecolor": "#2a3f5f"
            },
            "type": "carpet"
           }
          ],
          "choropleth": [
           {
            "colorbar": {
             "outlinewidth": 0,
             "ticks": ""
            },
            "type": "choropleth"
           }
          ],
          "contour": [
           {
            "colorbar": {
             "outlinewidth": 0,
             "ticks": ""
            },
            "colorscale": [
             [
              0,
              "#0d0887"
             ],
             [
              0.1111111111111111,
              "#46039f"
             ],
             [
              0.2222222222222222,
              "#7201a8"
             ],
             [
              0.3333333333333333,
              "#9c179e"
             ],
             [
              0.4444444444444444,
              "#bd3786"
             ],
             [
              0.5555555555555556,
              "#d8576b"
             ],
             [
              0.6666666666666666,
              "#ed7953"
             ],
             [
              0.7777777777777778,
              "#fb9f3a"
             ],
             [
              0.8888888888888888,
              "#fdca26"
             ],
             [
              1,
              "#f0f921"
             ]
            ],
            "type": "contour"
           }
          ],
          "contourcarpet": [
           {
            "colorbar": {
             "outlinewidth": 0,
             "ticks": ""
            },
            "type": "contourcarpet"
           }
          ],
          "heatmap": [
           {
            "colorbar": {
             "outlinewidth": 0,
             "ticks": ""
            },
            "colorscale": [
             [
              0,
              "#0d0887"
             ],
             [
              0.1111111111111111,
              "#46039f"
             ],
             [
              0.2222222222222222,
              "#7201a8"
             ],
             [
              0.3333333333333333,
              "#9c179e"
             ],
             [
              0.4444444444444444,
              "#bd3786"
             ],
             [
              0.5555555555555556,
              "#d8576b"
             ],
             [
              0.6666666666666666,
              "#ed7953"
             ],
             [
              0.7777777777777778,
              "#fb9f3a"
             ],
             [
              0.8888888888888888,
              "#fdca26"
             ],
             [
              1,
              "#f0f921"
             ]
            ],
            "type": "heatmap"
           }
          ],
          "heatmapgl": [
           {
            "colorbar": {
             "outlinewidth": 0,
             "ticks": ""
            },
            "colorscale": [
             [
              0,
              "#0d0887"
             ],
             [
              0.1111111111111111,
              "#46039f"
             ],
             [
              0.2222222222222222,
              "#7201a8"
             ],
             [
              0.3333333333333333,
              "#9c179e"
             ],
             [
              0.4444444444444444,
              "#bd3786"
             ],
             [
              0.5555555555555556,
              "#d8576b"
             ],
             [
              0.6666666666666666,
              "#ed7953"
             ],
             [
              0.7777777777777778,
              "#fb9f3a"
             ],
             [
              0.8888888888888888,
              "#fdca26"
             ],
             [
              1,
              "#f0f921"
             ]
            ],
            "type": "heatmapgl"
           }
          ],
          "histogram": [
           {
            "marker": {
             "colorbar": {
              "outlinewidth": 0,
              "ticks": ""
             }
            },
            "type": "histogram"
           }
          ],
          "histogram2d": [
           {
            "colorbar": {
             "outlinewidth": 0,
             "ticks": ""
            },
            "colorscale": [
             [
              0,
              "#0d0887"
             ],
             [
              0.1111111111111111,
              "#46039f"
             ],
             [
              0.2222222222222222,
              "#7201a8"
             ],
             [
              0.3333333333333333,
              "#9c179e"
             ],
             [
              0.4444444444444444,
              "#bd3786"
             ],
             [
              0.5555555555555556,
              "#d8576b"
             ],
             [
              0.6666666666666666,
              "#ed7953"
             ],
             [
              0.7777777777777778,
              "#fb9f3a"
             ],
             [
              0.8888888888888888,
              "#fdca26"
             ],
             [
              1,
              "#f0f921"
             ]
            ],
            "type": "histogram2d"
           }
          ],
          "histogram2dcontour": [
           {
            "colorbar": {
             "outlinewidth": 0,
             "ticks": ""
            },
            "colorscale": [
             [
              0,
              "#0d0887"
             ],
             [
              0.1111111111111111,
              "#46039f"
             ],
             [
              0.2222222222222222,
              "#7201a8"
             ],
             [
              0.3333333333333333,
              "#9c179e"
             ],
             [
              0.4444444444444444,
              "#bd3786"
             ],
             [
              0.5555555555555556,
              "#d8576b"
             ],
             [
              0.6666666666666666,
              "#ed7953"
             ],
             [
              0.7777777777777778,
              "#fb9f3a"
             ],
             [
              0.8888888888888888,
              "#fdca26"
             ],
             [
              1,
              "#f0f921"
             ]
            ],
            "type": "histogram2dcontour"
           }
          ],
          "mesh3d": [
           {
            "colorbar": {
             "outlinewidth": 0,
             "ticks": ""
            },
            "type": "mesh3d"
           }
          ],
          "parcoords": [
           {
            "line": {
             "colorbar": {
              "outlinewidth": 0,
              "ticks": ""
             }
            },
            "type": "parcoords"
           }
          ],
          "pie": [
           {
            "automargin": true,
            "type": "pie"
           }
          ],
          "scatter": [
           {
            "marker": {
             "colorbar": {
              "outlinewidth": 0,
              "ticks": ""
             }
            },
            "type": "scatter"
           }
          ],
          "scatter3d": [
           {
            "line": {
             "colorbar": {
              "outlinewidth": 0,
              "ticks": ""
             }
            },
            "marker": {
             "colorbar": {
              "outlinewidth": 0,
              "ticks": ""
             }
            },
            "type": "scatter3d"
           }
          ],
          "scattercarpet": [
           {
            "marker": {
             "colorbar": {
              "outlinewidth": 0,
              "ticks": ""
             }
            },
            "type": "scattercarpet"
           }
          ],
          "scattergeo": [
           {
            "marker": {
             "colorbar": {
              "outlinewidth": 0,
              "ticks": ""
             }
            },
            "type": "scattergeo"
           }
          ],
          "scattergl": [
           {
            "marker": {
             "colorbar": {
              "outlinewidth": 0,
              "ticks": ""
             }
            },
            "type": "scattergl"
           }
          ],
          "scattermapbox": [
           {
            "marker": {
             "colorbar": {
              "outlinewidth": 0,
              "ticks": ""
             }
            },
            "type": "scattermapbox"
           }
          ],
          "scatterpolar": [
           {
            "marker": {
             "colorbar": {
              "outlinewidth": 0,
              "ticks": ""
             }
            },
            "type": "scatterpolar"
           }
          ],
          "scatterpolargl": [
           {
            "marker": {
             "colorbar": {
              "outlinewidth": 0,
              "ticks": ""
             }
            },
            "type": "scatterpolargl"
           }
          ],
          "scatterternary": [
           {
            "marker": {
             "colorbar": {
              "outlinewidth": 0,
              "ticks": ""
             }
            },
            "type": "scatterternary"
           }
          ],
          "surface": [
           {
            "colorbar": {
             "outlinewidth": 0,
             "ticks": ""
            },
            "colorscale": [
             [
              0,
              "#0d0887"
             ],
             [
              0.1111111111111111,
              "#46039f"
             ],
             [
              0.2222222222222222,
              "#7201a8"
             ],
             [
              0.3333333333333333,
              "#9c179e"
             ],
             [
              0.4444444444444444,
              "#bd3786"
             ],
             [
              0.5555555555555556,
              "#d8576b"
             ],
             [
              0.6666666666666666,
              "#ed7953"
             ],
             [
              0.7777777777777778,
              "#fb9f3a"
             ],
             [
              0.8888888888888888,
              "#fdca26"
             ],
             [
              1,
              "#f0f921"
             ]
            ],
            "type": "surface"
           }
          ],
          "table": [
           {
            "cells": {
             "fill": {
              "color": "#EBF0F8"
             },
             "line": {
              "color": "white"
             }
            },
            "header": {
             "fill": {
              "color": "#C8D4E3"
             },
             "line": {
              "color": "white"
             }
            },
            "type": "table"
           }
          ]
         },
         "layout": {
          "annotationdefaults": {
           "arrowcolor": "#2a3f5f",
           "arrowhead": 0,
           "arrowwidth": 1
          },
          "coloraxis": {
           "colorbar": {
            "outlinewidth": 0,
            "ticks": ""
           }
          },
          "colorscale": {
           "diverging": [
            [
             0,
             "#8e0152"
            ],
            [
             0.1,
             "#c51b7d"
            ],
            [
             0.2,
             "#de77ae"
            ],
            [
             0.3,
             "#f1b6da"
            ],
            [
             0.4,
             "#fde0ef"
            ],
            [
             0.5,
             "#f7f7f7"
            ],
            [
             0.6,
             "#e6f5d0"
            ],
            [
             0.7,
             "#b8e186"
            ],
            [
             0.8,
             "#7fbc41"
            ],
            [
             0.9,
             "#4d9221"
            ],
            [
             1,
             "#276419"
            ]
           ],
           "sequential": [
            [
             0,
             "#0d0887"
            ],
            [
             0.1111111111111111,
             "#46039f"
            ],
            [
             0.2222222222222222,
             "#7201a8"
            ],
            [
             0.3333333333333333,
             "#9c179e"
            ],
            [
             0.4444444444444444,
             "#bd3786"
            ],
            [
             0.5555555555555556,
             "#d8576b"
            ],
            [
             0.6666666666666666,
             "#ed7953"
            ],
            [
             0.7777777777777778,
             "#fb9f3a"
            ],
            [
             0.8888888888888888,
             "#fdca26"
            ],
            [
             1,
             "#f0f921"
            ]
           ],
           "sequentialminus": [
            [
             0,
             "#0d0887"
            ],
            [
             0.1111111111111111,
             "#46039f"
            ],
            [
             0.2222222222222222,
             "#7201a8"
            ],
            [
             0.3333333333333333,
             "#9c179e"
            ],
            [
             0.4444444444444444,
             "#bd3786"
            ],
            [
             0.5555555555555556,
             "#d8576b"
            ],
            [
             0.6666666666666666,
             "#ed7953"
            ],
            [
             0.7777777777777778,
             "#fb9f3a"
            ],
            [
             0.8888888888888888,
             "#fdca26"
            ],
            [
             1,
             "#f0f921"
            ]
           ]
          },
          "colorway": [
           "#636efa",
           "#EF553B",
           "#00cc96",
           "#ab63fa",
           "#FFA15A",
           "#19d3f3",
           "#FF6692",
           "#B6E880",
           "#FF97FF",
           "#FECB52"
          ],
          "font": {
           "color": "#2a3f5f"
          },
          "geo": {
           "bgcolor": "white",
           "lakecolor": "white",
           "landcolor": "#E5ECF6",
           "showlakes": true,
           "showland": true,
           "subunitcolor": "white"
          },
          "hoverlabel": {
           "align": "left"
          },
          "hovermode": "closest",
          "mapbox": {
           "style": "light"
          },
          "paper_bgcolor": "white",
          "plot_bgcolor": "#E5ECF6",
          "polar": {
           "angularaxis": {
            "gridcolor": "white",
            "linecolor": "white",
            "ticks": ""
           },
           "bgcolor": "#E5ECF6",
           "radialaxis": {
            "gridcolor": "white",
            "linecolor": "white",
            "ticks": ""
           }
          },
          "scene": {
           "xaxis": {
            "backgroundcolor": "#E5ECF6",
            "gridcolor": "white",
            "gridwidth": 2,
            "linecolor": "white",
            "showbackground": true,
            "ticks": "",
            "zerolinecolor": "white"
           },
           "yaxis": {
            "backgroundcolor": "#E5ECF6",
            "gridcolor": "white",
            "gridwidth": 2,
            "linecolor": "white",
            "showbackground": true,
            "ticks": "",
            "zerolinecolor": "white"
           },
           "zaxis": {
            "backgroundcolor": "#E5ECF6",
            "gridcolor": "white",
            "gridwidth": 2,
            "linecolor": "white",
            "showbackground": true,
            "ticks": "",
            "zerolinecolor": "white"
           }
          },
          "shapedefaults": {
           "line": {
            "color": "#2a3f5f"
           }
          },
          "ternary": {
           "aaxis": {
            "gridcolor": "white",
            "linecolor": "white",
            "ticks": ""
           },
           "baxis": {
            "gridcolor": "white",
            "linecolor": "white",
            "ticks": ""
           },
           "bgcolor": "#E5ECF6",
           "caxis": {
            "gridcolor": "white",
            "linecolor": "white",
            "ticks": ""
           }
          },
          "title": {
           "x": 0.05
          },
          "xaxis": {
           "automargin": true,
           "gridcolor": "white",
           "linecolor": "white",
           "ticks": "",
           "title": {
            "standoff": 15
           },
           "zerolinecolor": "white",
           "zerolinewidth": 2
          },
          "yaxis": {
           "automargin": true,
           "gridcolor": "white",
           "linecolor": "white",
           "ticks": "",
           "title": {
            "standoff": 15
           },
           "zerolinecolor": "white",
           "zerolinewidth": 2
          }
         }
        },
        "title": {
         "text": "France  GDP"
        },
        "xaxis": {
         "anchor": "y",
         "domain": [
          0,
          1
         ],
         "title": {
          "text": "Date"
         }
        },
        "yaxis": {
         "anchor": "x",
         "domain": [
          0,
          1
         ],
         "title": {
          "text": "Count"
         }
        }
       }
      },
      "text/html": [
       "<div>\n",
       "        \n",
       "        \n",
       "            <div id=\"a77e1d5e-4fb3-4660-a3a7-39fb2c29f537\" class=\"plotly-graph-div\" style=\"height:525px; width:100%;\"></div>\n",
       "            <script type=\"text/javascript\">\n",
       "                require([\"plotly\"], function(Plotly) {\n",
       "                    window.PLOTLYENV=window.PLOTLYENV || {};\n",
       "                    \n",
       "                if (document.getElementById(\"a77e1d5e-4fb3-4660-a3a7-39fb2c29f537\")) {\n",
       "                    Plotly.newPlot(\n",
       "                        'a77e1d5e-4fb3-4660-a3a7-39fb2c29f537',\n",
       "                        [{\"alignmentgroup\": \"True\", \"hovertemplate\": \"Case=GDP<br>Date=%{x}<br>Count=%{y}<extra></extra>\", \"legendgroup\": \"GDP\", \"marker\": {\"color\": \"#636efa\"}, \"name\": \"GDP\", \"offsetgroup\": \"GDP\", \"orientation\": \"v\", \"showlegend\": true, \"textposition\": \"auto\", \"type\": \"bar\", \"x\": [2004, 2005, 2006, 2007, 2008, 2009, 2010, 2011, 2012, 2013, 2014, 2015, 2016, 2017, 2018, 2019, 2020], \"xaxis\": \"x\", \"y\": [10.2, 11.4, 12.7, 14.3, 9.7, 9.4, 10.6, 9.5, 7.9, 7.8, 7.3, 6.9, 6.8, 6.9, 6.7, 6.1, 1.2], \"yaxis\": \"y\"}],\n",
       "                        {\"annotations\": [{\"font\": {}, \"showarrow\": false, \"text\": \"Case=GDP\", \"x\": 0.5, \"xanchor\": \"center\", \"xref\": \"paper\", \"y\": 1.0, \"yanchor\": \"bottom\", \"yref\": \"paper\"}], \"barmode\": \"relative\", \"legend\": {\"title\": {\"text\": \"Case\"}, \"tracegroupgap\": 0}, \"template\": {\"data\": {\"bar\": [{\"error_x\": {\"color\": \"#2a3f5f\"}, \"error_y\": {\"color\": \"#2a3f5f\"}, \"marker\": {\"line\": {\"color\": \"#E5ECF6\", \"width\": 0.5}}, \"type\": \"bar\"}], \"barpolar\": [{\"marker\": {\"line\": {\"color\": \"#E5ECF6\", \"width\": 0.5}}, \"type\": \"barpolar\"}], \"carpet\": [{\"aaxis\": {\"endlinecolor\": \"#2a3f5f\", \"gridcolor\": \"white\", \"linecolor\": \"white\", \"minorgridcolor\": \"white\", \"startlinecolor\": \"#2a3f5f\"}, \"baxis\": {\"endlinecolor\": \"#2a3f5f\", \"gridcolor\": \"white\", \"linecolor\": \"white\", \"minorgridcolor\": \"white\", \"startlinecolor\": \"#2a3f5f\"}, \"type\": \"carpet\"}], \"choropleth\": [{\"colorbar\": {\"outlinewidth\": 0, \"ticks\": \"\"}, \"type\": \"choropleth\"}], \"contour\": [{\"colorbar\": {\"outlinewidth\": 0, \"ticks\": \"\"}, \"colorscale\": [[0.0, \"#0d0887\"], [0.1111111111111111, \"#46039f\"], [0.2222222222222222, \"#7201a8\"], [0.3333333333333333, \"#9c179e\"], [0.4444444444444444, \"#bd3786\"], [0.5555555555555556, \"#d8576b\"], [0.6666666666666666, \"#ed7953\"], [0.7777777777777778, \"#fb9f3a\"], [0.8888888888888888, \"#fdca26\"], [1.0, \"#f0f921\"]], \"type\": \"contour\"}], \"contourcarpet\": [{\"colorbar\": {\"outlinewidth\": 0, \"ticks\": \"\"}, \"type\": \"contourcarpet\"}], \"heatmap\": [{\"colorbar\": {\"outlinewidth\": 0, \"ticks\": \"\"}, \"colorscale\": [[0.0, \"#0d0887\"], [0.1111111111111111, \"#46039f\"], [0.2222222222222222, \"#7201a8\"], [0.3333333333333333, \"#9c179e\"], [0.4444444444444444, \"#bd3786\"], [0.5555555555555556, \"#d8576b\"], [0.6666666666666666, \"#ed7953\"], [0.7777777777777778, \"#fb9f3a\"], [0.8888888888888888, \"#fdca26\"], [1.0, \"#f0f921\"]], \"type\": \"heatmap\"}], \"heatmapgl\": [{\"colorbar\": {\"outlinewidth\": 0, \"ticks\": \"\"}, \"colorscale\": [[0.0, \"#0d0887\"], [0.1111111111111111, \"#46039f\"], [0.2222222222222222, \"#7201a8\"], [0.3333333333333333, \"#9c179e\"], [0.4444444444444444, \"#bd3786\"], [0.5555555555555556, \"#d8576b\"], [0.6666666666666666, \"#ed7953\"], [0.7777777777777778, \"#fb9f3a\"], [0.8888888888888888, \"#fdca26\"], [1.0, \"#f0f921\"]], \"type\": \"heatmapgl\"}], \"histogram\": [{\"marker\": {\"colorbar\": {\"outlinewidth\": 0, \"ticks\": \"\"}}, \"type\": \"histogram\"}], \"histogram2d\": [{\"colorbar\": {\"outlinewidth\": 0, \"ticks\": \"\"}, \"colorscale\": [[0.0, \"#0d0887\"], [0.1111111111111111, \"#46039f\"], [0.2222222222222222, \"#7201a8\"], [0.3333333333333333, \"#9c179e\"], [0.4444444444444444, \"#bd3786\"], [0.5555555555555556, \"#d8576b\"], [0.6666666666666666, \"#ed7953\"], [0.7777777777777778, \"#fb9f3a\"], [0.8888888888888888, \"#fdca26\"], [1.0, \"#f0f921\"]], \"type\": \"histogram2d\"}], \"histogram2dcontour\": [{\"colorbar\": {\"outlinewidth\": 0, \"ticks\": \"\"}, \"colorscale\": [[0.0, \"#0d0887\"], [0.1111111111111111, \"#46039f\"], [0.2222222222222222, \"#7201a8\"], [0.3333333333333333, \"#9c179e\"], [0.4444444444444444, \"#bd3786\"], [0.5555555555555556, \"#d8576b\"], [0.6666666666666666, \"#ed7953\"], [0.7777777777777778, \"#fb9f3a\"], [0.8888888888888888, \"#fdca26\"], [1.0, \"#f0f921\"]], \"type\": \"histogram2dcontour\"}], \"mesh3d\": [{\"colorbar\": {\"outlinewidth\": 0, \"ticks\": \"\"}, \"type\": \"mesh3d\"}], \"parcoords\": [{\"line\": {\"colorbar\": {\"outlinewidth\": 0, \"ticks\": \"\"}}, \"type\": \"parcoords\"}], \"pie\": [{\"automargin\": true, \"type\": \"pie\"}], \"scatter\": [{\"marker\": {\"colorbar\": {\"outlinewidth\": 0, \"ticks\": \"\"}}, \"type\": \"scatter\"}], \"scatter3d\": [{\"line\": {\"colorbar\": {\"outlinewidth\": 0, \"ticks\": \"\"}}, \"marker\": {\"colorbar\": {\"outlinewidth\": 0, \"ticks\": \"\"}}, \"type\": \"scatter3d\"}], \"scattercarpet\": [{\"marker\": {\"colorbar\": {\"outlinewidth\": 0, \"ticks\": \"\"}}, \"type\": \"scattercarpet\"}], \"scattergeo\": [{\"marker\": {\"colorbar\": {\"outlinewidth\": 0, \"ticks\": \"\"}}, \"type\": \"scattergeo\"}], \"scattergl\": [{\"marker\": {\"colorbar\": {\"outlinewidth\": 0, \"ticks\": \"\"}}, \"type\": \"scattergl\"}], \"scattermapbox\": [{\"marker\": {\"colorbar\": {\"outlinewidth\": 0, \"ticks\": \"\"}}, \"type\": \"scattermapbox\"}], \"scatterpolar\": [{\"marker\": {\"colorbar\": {\"outlinewidth\": 0, \"ticks\": \"\"}}, \"type\": \"scatterpolar\"}], \"scatterpolargl\": [{\"marker\": {\"colorbar\": {\"outlinewidth\": 0, \"ticks\": \"\"}}, \"type\": \"scatterpolargl\"}], \"scatterternary\": [{\"marker\": {\"colorbar\": {\"outlinewidth\": 0, \"ticks\": \"\"}}, \"type\": \"scatterternary\"}], \"surface\": [{\"colorbar\": {\"outlinewidth\": 0, \"ticks\": \"\"}, \"colorscale\": [[0.0, \"#0d0887\"], [0.1111111111111111, \"#46039f\"], [0.2222222222222222, \"#7201a8\"], [0.3333333333333333, \"#9c179e\"], [0.4444444444444444, \"#bd3786\"], [0.5555555555555556, \"#d8576b\"], [0.6666666666666666, \"#ed7953\"], [0.7777777777777778, \"#fb9f3a\"], [0.8888888888888888, \"#fdca26\"], [1.0, \"#f0f921\"]], \"type\": \"surface\"}], \"table\": [{\"cells\": {\"fill\": {\"color\": \"#EBF0F8\"}, \"line\": {\"color\": \"white\"}}, \"header\": {\"fill\": {\"color\": \"#C8D4E3\"}, \"line\": {\"color\": \"white\"}}, \"type\": \"table\"}]}, \"layout\": {\"annotationdefaults\": {\"arrowcolor\": \"#2a3f5f\", \"arrowhead\": 0, \"arrowwidth\": 1}, \"coloraxis\": {\"colorbar\": {\"outlinewidth\": 0, \"ticks\": \"\"}}, \"colorscale\": {\"diverging\": [[0, \"#8e0152\"], [0.1, \"#c51b7d\"], [0.2, \"#de77ae\"], [0.3, \"#f1b6da\"], [0.4, \"#fde0ef\"], [0.5, \"#f7f7f7\"], [0.6, \"#e6f5d0\"], [0.7, \"#b8e186\"], [0.8, \"#7fbc41\"], [0.9, \"#4d9221\"], [1, \"#276419\"]], \"sequential\": [[0.0, \"#0d0887\"], [0.1111111111111111, \"#46039f\"], [0.2222222222222222, \"#7201a8\"], [0.3333333333333333, \"#9c179e\"], [0.4444444444444444, \"#bd3786\"], [0.5555555555555556, \"#d8576b\"], [0.6666666666666666, \"#ed7953\"], [0.7777777777777778, \"#fb9f3a\"], [0.8888888888888888, \"#fdca26\"], [1.0, \"#f0f921\"]], \"sequentialminus\": [[0.0, \"#0d0887\"], [0.1111111111111111, \"#46039f\"], [0.2222222222222222, \"#7201a8\"], [0.3333333333333333, \"#9c179e\"], [0.4444444444444444, \"#bd3786\"], [0.5555555555555556, \"#d8576b\"], [0.6666666666666666, \"#ed7953\"], [0.7777777777777778, \"#fb9f3a\"], [0.8888888888888888, \"#fdca26\"], [1.0, \"#f0f921\"]]}, \"colorway\": [\"#636efa\", \"#EF553B\", \"#00cc96\", \"#ab63fa\", \"#FFA15A\", \"#19d3f3\", \"#FF6692\", \"#B6E880\", \"#FF97FF\", \"#FECB52\"], \"font\": {\"color\": \"#2a3f5f\"}, \"geo\": {\"bgcolor\": \"white\", \"lakecolor\": \"white\", \"landcolor\": \"#E5ECF6\", \"showlakes\": true, \"showland\": true, \"subunitcolor\": \"white\"}, \"hoverlabel\": {\"align\": \"left\"}, \"hovermode\": \"closest\", \"mapbox\": {\"style\": \"light\"}, \"paper_bgcolor\": \"white\", \"plot_bgcolor\": \"#E5ECF6\", \"polar\": {\"angularaxis\": {\"gridcolor\": \"white\", \"linecolor\": \"white\", \"ticks\": \"\"}, \"bgcolor\": \"#E5ECF6\", \"radialaxis\": {\"gridcolor\": \"white\", \"linecolor\": \"white\", \"ticks\": \"\"}}, \"scene\": {\"xaxis\": {\"backgroundcolor\": \"#E5ECF6\", \"gridcolor\": \"white\", \"gridwidth\": 2, \"linecolor\": \"white\", \"showbackground\": true, \"ticks\": \"\", \"zerolinecolor\": \"white\"}, \"yaxis\": {\"backgroundcolor\": \"#E5ECF6\", \"gridcolor\": \"white\", \"gridwidth\": 2, \"linecolor\": \"white\", \"showbackground\": true, \"ticks\": \"\", \"zerolinecolor\": \"white\"}, \"zaxis\": {\"backgroundcolor\": \"#E5ECF6\", \"gridcolor\": \"white\", \"gridwidth\": 2, \"linecolor\": \"white\", \"showbackground\": true, \"ticks\": \"\", \"zerolinecolor\": \"white\"}}, \"shapedefaults\": {\"line\": {\"color\": \"#2a3f5f\"}}, \"ternary\": {\"aaxis\": {\"gridcolor\": \"white\", \"linecolor\": \"white\", \"ticks\": \"\"}, \"baxis\": {\"gridcolor\": \"white\", \"linecolor\": \"white\", \"ticks\": \"\"}, \"bgcolor\": \"#E5ECF6\", \"caxis\": {\"gridcolor\": \"white\", \"linecolor\": \"white\", \"ticks\": \"\"}}, \"title\": {\"x\": 0.05}, \"xaxis\": {\"automargin\": true, \"gridcolor\": \"white\", \"linecolor\": \"white\", \"ticks\": \"\", \"title\": {\"standoff\": 15}, \"zerolinecolor\": \"white\", \"zerolinewidth\": 2}, \"yaxis\": {\"automargin\": true, \"gridcolor\": \"white\", \"linecolor\": \"white\", \"ticks\": \"\", \"title\": {\"standoff\": 15}, \"zerolinecolor\": \"white\", \"zerolinewidth\": 2}}}, \"title\": {\"text\": \"France  GDP\"}, \"xaxis\": {\"anchor\": \"y\", \"domain\": [0.0, 1.0], \"title\": {\"text\": \"Date\"}}, \"yaxis\": {\"anchor\": \"x\", \"domain\": [0.0, 1.0], \"title\": {\"text\": \"Count\"}}},\n",
       "                        {\"responsive\": true}\n",
       "                    ).then(function(){\n",
       "                            \n",
       "var gd = document.getElementById('a77e1d5e-4fb3-4660-a3a7-39fb2c29f537');\n",
       "var x = new MutationObserver(function (mutations, observer) {{\n",
       "        var display = window.getComputedStyle(gd).display;\n",
       "        if (!display || display === 'none') {{\n",
       "            console.log([gd, 'removed!']);\n",
       "            Plotly.purge(gd);\n",
       "            observer.disconnect();\n",
       "        }}\n",
       "}});\n",
       "\n",
       "// Listen for the removal of the full notebook cells\n",
       "var notebookContainer = gd.closest('#notebook-container');\n",
       "if (notebookContainer) {{\n",
       "    x.observe(notebookContainer, {childList: true});\n",
       "}}\n",
       "\n",
       "// Listen for the clearing of the current output cell\n",
       "var outputEl = gd.closest('.output');\n",
       "if (outputEl) {{\n",
       "    x.observe(outputEl, {childList: true});\n",
       "}}\n",
       "\n",
       "                        })\n",
       "                };\n",
       "                });\n",
       "            </script>\n",
       "        </div>"
      ]
     },
     "metadata": {},
     "output_type": "display_data"
    }
   ],
   "source": [
    "gdfull = dataset2.groupby(['Date', 'Country']).max()\n",
    "gdfull = gdfull.reset_index()\n",
    "\n",
    "temp = gdfull[gdfull['Country']=='China'].reset_index()\n",
    "temp = temp.melt(id_vars='Date', value_vars=['GDP'],\n",
    "                var_name='Case', value_name='Count')\n",
    "fig = px.bar(temp, x=\"Date\", y=\"Count\", color='Case', facet_col=\"Case\",\n",
    "            title='France  GDP')\n",
    "fig.show()"
   ]
  },
  {
   "cell_type": "code",
   "execution_count": 31,
   "metadata": {},
   "outputs": [
    {
     "data": {
      "text/html": [
       "<div>\n",
       "<style scoped>\n",
       "    .dataframe tbody tr th:only-of-type {\n",
       "        vertical-align: middle;\n",
       "    }\n",
       "\n",
       "    .dataframe tbody tr th {\n",
       "        vertical-align: top;\n",
       "    }\n",
       "\n",
       "    .dataframe thead th {\n",
       "        text-align: right;\n",
       "    }\n",
       "</style>\n",
       "<table border=\"1\" class=\"dataframe\">\n",
       "  <thead>\n",
       "    <tr style=\"text-align: right;\">\n",
       "      <th></th>\n",
       "      <th>Country</th>\n",
       "      <th>Growth(2020)</th>\n",
       "      <th>Previous</th>\n",
       "    </tr>\n",
       "  </thead>\n",
       "  <tbody>\n",
       "    <tr>\n",
       "      <th>0</th>\n",
       "      <td>China</td>\n",
       "      <td>1.0</td>\n",
       "      <td>5.9</td>\n",
       "    </tr>\n",
       "    <tr>\n",
       "      <th>1</th>\n",
       "      <td>Germany</td>\n",
       "      <td>-6.0</td>\n",
       "      <td>0.9</td>\n",
       "    </tr>\n",
       "    <tr>\n",
       "      <th>2</th>\n",
       "      <td>France</td>\n",
       "      <td>-5.0</td>\n",
       "      <td>1.0</td>\n",
       "    </tr>\n",
       "    <tr>\n",
       "      <th>3</th>\n",
       "      <td>Italy</td>\n",
       "      <td>-7.0</td>\n",
       "      <td>0.4</td>\n",
       "    </tr>\n",
       "    <tr>\n",
       "      <th>4</th>\n",
       "      <td>Spain</td>\n",
       "      <td>-7.3</td>\n",
       "      <td>1.6</td>\n",
       "    </tr>\n",
       "  </tbody>\n",
       "</table>\n",
       "</div>"
      ],
      "text/plain": [
       "   Country  Growth(2020)  Previous \n",
       "0    China           1.0        5.9\n",
       "1  Germany          -6.0        0.9\n",
       "2   France          -5.0        1.0\n",
       "3    Italy          -7.0        0.4\n",
       "4    Spain          -7.3        1.6"
      ]
     },
     "execution_count": 31,
     "metadata": {},
     "output_type": "execute_result"
    }
   ],
   "source": [
    "dataset3.head()"
   ]
  },
  {
   "cell_type": "code",
   "execution_count": 32,
   "metadata": {},
   "outputs": [],
   "source": [
    "import matplotlib.pyplot as plt\n",
    "import seaborn as sns\n",
    "import plotly.express as px"
   ]
  },
  {
   "cell_type": "code",
   "execution_count": 33,
   "metadata": {},
   "outputs": [],
   "source": [
    "temp = dataset.groupby('Date')['China'].sum().reset_index()\n",
    "\n",
    "covid = temp['China']"
   ]
  },
  {
   "cell_type": "code",
   "execution_count": 68,
   "metadata": {},
   "outputs": [
    {
     "data": {
      "image/png": "[encoded data removed]",
      "text/plain": [
       "<Figure size 1440x576 with 1 Axes>"
      ]
     },
     "metadata": {
      "needs_background": "light"
     },
     "output_type": "display_data"
    }
   ],
   "source": [
    "plt.figure(figsize=(20, 8))\n",
    "ax = plt.plot(temp['Date'], covid, c='#555555', alpha=0.8)"
   ]
  },
  {
   "cell_type": "code",
   "execution_count": 35,
   "metadata": {},
   "outputs": [],
   "source": [
    "temp = dataset.groupby('Date')['Kazakhstan'].sum().reset_index()\n",
    "\n",
    "covid = temp['Kazakhstan']"
   ]
  },
  {
   "cell_type": "code",
   "execution_count": 36,
   "metadata": {},
   "outputs": [
    {
     "data": {
      "image/png": "[encoded data removed]",
      "text/plain": [
       "<Figure size 1440x576 with 1 Axes>"
      ]
     },
     "metadata": {
      "needs_background": "light"
     },
     "output_type": "display_data"
    }
   ],
   "source": [
    "plt.figure(figsize=(20, 8))\n",
    "ax = plt.plot(temp['Date'], covid, label='COVID-19 (2019-2020)', c='#555555', alpha=0.8)"
   ]
  },
  {
   "cell_type": "code",
   "execution_count": 37,
   "metadata": {},
   "outputs": [],
   "source": [
    "def stackedbarplot(x_data, y_data_list, colors, y_data_names=\"\", x_label=\"\", y_label=\"\", title=\"\"):\n",
    "    _, ax = plt.subplots()\n",
    "    # Draw bars, one category at a time\n",
    "    for i in range(0, len(y_data_list)):\n",
    "        if i == 0:\n",
    "            ax.bar(x_data, y_data_list[i], color = colors[i], align = 'center', label = y_data_names[i])\n",
    "        else:\n",
    "            # For each category after the first, the bottom of the\n",
    "            # bar will be the top of the last category\n",
    "            ax.bar(x_data, y_data_list[i], color = colors[i], bottom = y_data_list[i - 1], align = 'center', label = y_data_names[i])\n",
    "    ax.set_ylabel(y_label)\n",
    "    ax.set_xlabel(x_label)\n",
    "    ax.set_title(title)\n",
    "    ax.legend(loc = 'upper right')"
   ]
  },
  {
   "cell_type": "code",
   "execution_count": 57,
   "metadata": {},
   "outputs": [
    {
     "data": {
      "application/vnd.plotly.v1+json": {
       "config": {
        "plotlyServerURL": "https://plot.ly"
       },
       "data": [
        {
         "marker": {
          "color": "#0343df"
         },
         "name": "after",
         "type": "bar",
         "x": [
          0,
          1,
          2,
          3,
          4,
          5,
          6,
          7
         ],
         "y": [
          1,
          -6,
          -5,
          -7,
          -7.3,
          -2.6,
          -2.9,
          -2.5
         ]
        },
        {
         "marker": {
          "color": "#e50000"
         },
         "name": "before",
         "type": "bar",
         "x": [
          0,
          1,
          2,
          3,
          4,
          5,
          6,
          7
         ],
         "y": [
          5.9,
          0.9,
          1,
          0.4,
          1.6,
          1.6,
          1.7,
          3
         ]
        }
       ],
       "layout": {
        "template": {
         "data": {
          "bar": [
           {
            "error_x": {
             "color": "#2a3f5f"
            },
            "error_y": {
             "color": "#2a3f5f"
            },
            "marker": {
             "line": {
              "color": "#E5ECF6",
              "width": 0.5
             }
            },
            "type": "bar"
           }
          ],
          "barpolar": [
           {
            "marker": {
             "line": {
              "color": "#E5ECF6",
              "width": 0.5
             }
            },
            "type": "barpolar"
           }
          ],
          "carpet": [
           {
            "aaxis": {
             "endlinecolor": "#2a3f5f",
             "gridcolor": "white",
             "linecolor": "white",
             "minorgridcolor": "white",
             "startlinecolor": "#2a3f5f"
            },
            "baxis": {
             "endlinecolor": "#2a3f5f",
             "gridcolor": "white",
             "linecolor": "white",
             "minorgridcolor": "white",
             "startlinecolor": "#2a3f5f"
            },
            "type": "carpet"
           }
          ],
          "choropleth": [
           {
            "colorbar": {
             "outlinewidth": 0,
             "ticks": ""
            },
            "type": "choropleth"
           }
          ],
          "contour": [
           {
            "colorbar": {
             "outlinewidth": 0,
             "ticks": ""
            },
            "colorscale": [
             [
              0,
              "#0d0887"
             ],
             [
              0.1111111111111111,
              "#46039f"
             ],
             [
              0.2222222222222222,
              "#7201a8"
             ],
             [
              0.3333333333333333,
              "#9c179e"
             ],
             [
              0.4444444444444444,
              "#bd3786"
             ],
             [
              0.5555555555555556,
              "#d8576b"
             ],
             [
              0.6666666666666666,
              "#ed7953"
             ],
             [
              0.7777777777777778,
              "#fb9f3a"
             ],
             [
              0.8888888888888888,
              "#fdca26"
             ],
             [
              1,
              "#f0f921"
             ]
            ],
            "type": "contour"
           }
          ],
          "contourcarpet": [
           {
            "colorbar": {
             "outlinewidth": 0,
             "ticks": ""
            },
            "type": "contourcarpet"
           }
          ],
          "heatmap": [
           {
            "colorbar": {
             "outlinewidth": 0,
             "ticks": ""
            },
            "colorscale": [
             [
              0,
              "#0d0887"
             ],
             [
              0.1111111111111111,
              "#46039f"
             ],
             [
              0.2222222222222222,
              "#7201a8"
             ],
             [
              0.3333333333333333,
              "#9c179e"
             ],
             [
              0.4444444444444444,
              "#bd3786"
             ],
             [
              0.5555555555555556,
              "#d8576b"
             ],
             [
              0.6666666666666666,
              "#ed7953"
             ],
             [
              0.7777777777777778,
              "#fb9f3a"
             ],
             [
              0.8888888888888888,
              "#fdca26"
             ],
             [
              1,
              "#f0f921"
             ]
            ],
            "type": "heatmap"
           }
          ],
          "heatmapgl": [
           {
            "colorbar": {
             "outlinewidth": 0,
             "ticks": ""
            },
            "colorscale": [
             [
              0,
              "#0d0887"
             ],
             [
              0.1111111111111111,
              "#46039f"
             ],
             [
              0.2222222222222222,
              "#7201a8"
             ],
             [
              0.3333333333333333,
              "#9c179e"
             ],
             [
              0.4444444444444444,
              "#bd3786"
             ],
             [
              0.5555555555555556,
              "#d8576b"
             ],
             [
              0.6666666666666666,
              "#ed7953"
             ],
             [
              0.7777777777777778,
              "#fb9f3a"
             ],
             [
              0.8888888888888888,
              "#fdca26"
             ],
             [
              1,
              "#f0f921"
             ]
            ],
            "type": "heatmapgl"
           }
          ],
          "histogram": [
           {
            "marker": {
             "colorbar": {
              "outlinewidth": 0,
              "ticks": ""
             }
            },
            "type": "histogram"
           }
          ],
          "histogram2d": [
           {
            "colorbar": {
             "outlinewidth": 0,
             "ticks": ""
            },
            "colorscale": [
             [
              0,
              "#0d0887"
             ],
             [
              0.1111111111111111,
              "#46039f"
             ],
             [
              0.2222222222222222,
              "#7201a8"
             ],
             [
              0.3333333333333333,
              "#9c179e"
             ],
             [
              0.4444444444444444,
              "#bd3786"
             ],
             [
              0.5555555555555556,
              "#d8576b"
             ],
             [
              0.6666666666666666,
              "#ed7953"
             ],
             [
              0.7777777777777778,
              "#fb9f3a"
             ],
             [
              0.8888888888888888,
              "#fdca26"
             ],
             [
              1,
              "#f0f921"
             ]
            ],
            "type": "histogram2d"
           }
          ],
          "histogram2dcontour": [
           {
            "colorbar": {
             "outlinewidth": 0,
             "ticks": ""
            },
            "colorscale": [
             [
              0,
              "#0d0887"
             ],
             [
              0.1111111111111111,
              "#46039f"
             ],
             [
              0.2222222222222222,
              "#7201a8"
             ],
             [
              0.3333333333333333,
              "#9c179e"
             ],
             [
              0.4444444444444444,
              "#bd3786"
             ],
             [
              0.5555555555555556,
              "#d8576b"
             ],
             [
              0.6666666666666666,
              "#ed7953"
             ],
             [
              0.7777777777777778,
              "#fb9f3a"
             ],
             [
              0.8888888888888888,
              "#fdca26"
             ],
             [
              1,
              "#f0f921"
             ]
            ],
            "type": "histogram2dcontour"
           }
          ],
          "mesh3d": [
           {
            "colorbar": {
             "outlinewidth": 0,
             "ticks": ""
            },
            "type": "mesh3d"
           }
          ],
          "parcoords": [
           {
            "line": {
             "colorbar": {
              "outlinewidth": 0,
              "ticks": ""
             }
            },
            "type": "parcoords"
           }
          ],
          "pie": [
           {
            "automargin": true,
            "type": "pie"
           }
          ],
          "scatter": [
           {
            "marker": {
             "colorbar": {
              "outlinewidth": 0,
              "ticks": ""
             }
            },
            "type": "scatter"
           }
          ],
          "scatter3d": [
           {
            "line": {
             "colorbar": {
              "outlinewidth": 0,
              "ticks": ""
             }
            },
            "marker": {
             "colorbar": {
              "outlinewidth": 0,
              "ticks": ""
             }
            },
            "type": "scatter3d"
           }
          ],
          "scattercarpet": [
           {
            "marker": {
             "colorbar": {
              "outlinewidth": 0,
              "ticks": ""
             }
            },
            "type": "scattercarpet"
           }
          ],
          "scattergeo": [
           {
            "marker": {
             "colorbar": {
              "outlinewidth": 0,
              "ticks": ""
             }
            },
            "type": "scattergeo"
           }
          ],
          "scattergl": [
           {
            "marker": {
             "colorbar": {
              "outlinewidth": 0,
              "ticks": ""
             }
            },
            "type": "scattergl"
           }
          ],
          "scattermapbox": [
           {
            "marker": {
             "colorbar": {
              "outlinewidth": 0,
              "ticks": ""
             }
            },
            "type": "scattermapbox"
           }
          ],
          "scatterpolar": [
           {
            "marker": {
             "colorbar": {
              "outlinewidth": 0,
              "ticks": ""
             }
            },
            "type": "scatterpolar"
           }
          ],
          "scatterpolargl": [
           {
            "marker": {
             "colorbar": {
              "outlinewidth": 0,
              "ticks": ""
             }
            },
            "type": "scatterpolargl"
           }
          ],
          "scatterternary": [
           {
            "marker": {
             "colorbar": {
              "outlinewidth": 0,
              "ticks": ""
             }
            },
            "type": "scatterternary"
           }
          ],
          "surface": [
           {
            "colorbar": {
             "outlinewidth": 0,
             "ticks": ""
            },
            "colorscale": [
             [
              0,
              "#0d0887"
             ],
             [
              0.1111111111111111,
              "#46039f"
             ],
             [
              0.2222222222222222,
              "#7201a8"
             ],
             [
              0.3333333333333333,
              "#9c179e"
             ],
             [
              0.4444444444444444,
              "#bd3786"
             ],
             [
              0.5555555555555556,
              "#d8576b"
             ],
             [
              0.6666666666666666,
              "#ed7953"
             ],
             [
              0.7777777777777778,
              "#fb9f3a"
             ],
             [
              0.8888888888888888,
              "#fdca26"
             ],
             [
              1,
              "#f0f921"
             ]
            ],
            "type": "surface"
           }
          ],
          "table": [
           {
            "cells": {
             "fill": {
              "color": "#EBF0F8"
             },
             "line": {
              "color": "white"
             }
            },
            "header": {
             "fill": {
              "color": "#C8D4E3"
             },
             "line": {
              "color": "white"
             }
            },
            "type": "table"
           }
          ]
         },
         "layout": {
          "annotationdefaults": {
           "arrowcolor": "#2a3f5f",
           "arrowhead": 0,
           "arrowwidth": 1
          },
          "coloraxis": {
           "colorbar": {
            "outlinewidth": 0,
            "ticks": ""
           }
          },
          "colorscale": {
           "diverging": [
            [
             0,
             "#8e0152"
            ],
            [
             0.1,
             "#c51b7d"
            ],
            [
             0.2,
             "#de77ae"
            ],
            [
             0.3,
             "#f1b6da"
            ],
            [
             0.4,
             "#fde0ef"
            ],
            [
             0.5,
             "#f7f7f7"
            ],
            [
             0.6,
             "#e6f5d0"
            ],
            [
             0.7,
             "#b8e186"
            ],
            [
             0.8,
             "#7fbc41"
            ],
            [
             0.9,
             "#4d9221"
            ],
            [
             1,
             "#276419"
            ]
           ],
           "sequential": [
            [
             0,
             "#0d0887"
            ],
            [
             0.1111111111111111,
             "#46039f"
            ],
            [
             0.2222222222222222,
             "#7201a8"
            ],
            [
             0.3333333333333333,
             "#9c179e"
            ],
            [
             0.4444444444444444,
             "#bd3786"
            ],
            [
             0.5555555555555556,
             "#d8576b"
            ],
            [
             0.6666666666666666,
             "#ed7953"
            ],
            [
             0.7777777777777778,
             "#fb9f3a"
            ],
            [
             0.8888888888888888,
             "#fdca26"
            ],
            [
             1,
             "#f0f921"
            ]
           ],
           "sequentialminus": [
            [
             0,
             "#0d0887"
            ],
            [
             0.1111111111111111,
             "#46039f"
            ],
            [
             0.2222222222222222,
             "#7201a8"
            ],
            [
             0.3333333333333333,
             "#9c179e"
            ],
            [
             0.4444444444444444,
             "#bd3786"
            ],
            [
             0.5555555555555556,
             "#d8576b"
            ],
            [
             0.6666666666666666,
             "#ed7953"
            ],
            [
             0.7777777777777778,
             "#fb9f3a"
            ],
            [
             0.8888888888888888,
             "#fdca26"
            ],
            [
             1,
             "#f0f921"
            ]
           ]
          },
          "colorway": [
           "#636efa",
           "#EF553B",
           "#00cc96",
           "#ab63fa",
           "#FFA15A",
           "#19d3f3",
           "#FF6692",
           "#B6E880",
           "#FF97FF",
           "#FECB52"
          ],
          "font": {
           "color": "#2a3f5f"
          },
          "geo": {
           "bgcolor": "white",
           "lakecolor": "white",
           "landcolor": "#E5ECF6",
           "showlakes": true,
           "showland": true,
           "subunitcolor": "white"
          },
          "hoverlabel": {
           "align": "left"
          },
          "hovermode": "closest",
          "mapbox": {
           "style": "light"
          },
          "paper_bgcolor": "white",
          "plot_bgcolor": "#E5ECF6",
          "polar": {
           "angularaxis": {
            "gridcolor": "white",
            "linecolor": "white",
            "ticks": ""
           },
           "bgcolor": "#E5ECF6",
           "radialaxis": {
            "gridcolor": "white",
            "linecolor": "white",
            "ticks": ""
           }
          },
          "scene": {
           "xaxis": {
            "backgroundcolor": "#E5ECF6",
            "gridcolor": "white",
            "gridwidth": 2,
            "linecolor": "white",
            "showbackground": true,
            "ticks": "",
            "zerolinecolor": "white"
           },
           "yaxis": {
            "backgroundcolor": "#E5ECF6",
            "gridcolor": "white",
            "gridwidth": 2,
            "linecolor": "white",
            "showbackground": true,
            "ticks": "",
            "zerolinecolor": "white"
           },
           "zaxis": {
            "backgroundcolor": "#E5ECF6",
            "gridcolor": "white",
            "gridwidth": 2,
            "linecolor": "white",
            "showbackground": true,
            "ticks": "",
            "zerolinecolor": "white"
           }
          },
          "shapedefaults": {
           "line": {
            "color": "#2a3f5f"
           }
          },
          "ternary": {
           "aaxis": {
            "gridcolor": "white",
            "linecolor": "white",
            "ticks": ""
           },
           "baxis": {
            "gridcolor": "white",
            "linecolor": "white",
            "ticks": ""
           },
           "bgcolor": "#E5ECF6",
           "caxis": {
            "gridcolor": "white",
            "linecolor": "white",
            "ticks": ""
           }
          },
          "title": {
           "x": 0.05
          },
          "xaxis": {
           "automargin": true,
           "gridcolor": "white",
           "linecolor": "white",
           "ticks": "",
           "title": {
            "standoff": 15
           },
           "zerolinecolor": "white",
           "zerolinewidth": 2
          },
          "yaxis": {
           "automargin": true,
           "gridcolor": "white",
           "linecolor": "white",
           "ticks": "",
           "title": {
            "standoff": 15
           },
           "zerolinecolor": "white",
           "zerolinewidth": 2
          }
         }
        },
        "title": {
         "text": "GDP during quarantine",
         "x": 0.5
        },
        "xaxis": {
         "tickmode": "array",
         "ticktext": [
          "China",
          "Germany",
          "France",
          "Italy",
          "Spain",
          "Russia",
          "US",
          "KZ"
         ],
         "tickvals": [
          0,
          1,
          2,
          3,
          4,
          5,
          6,
          7,
          8,
          9,
          10,
          11,
          12,
          13,
          14,
          15,
          16,
          17,
          18,
          19,
          20,
          21,
          22,
          23,
          24,
          25,
          26
         ]
        },
        "yaxis": {
         "title": {
          "text": "Seats"
         }
        }
       }
      },
      "text/html": [
       "<div>\n",
       "        \n",
       "        \n",
       "            <div id=\"d97c5248-edd6-48d5-9cdb-7e6595c5113b\" class=\"plotly-graph-div\" style=\"height:525px; width:100%;\"></div>\n",
       "            <script type=\"text/javascript\">\n",
       "                require([\"plotly\"], function(Plotly) {\n",
       "                    window.PLOTLYENV=window.PLOTLYENV || {};\n",
       "                    \n",
       "                if (document.getElementById(\"d97c5248-edd6-48d5-9cdb-7e6595c5113b\")) {\n",
       "                    Plotly.newPlot(\n",
       "                        'd97c5248-edd6-48d5-9cdb-7e6595c5113b',\n",
       "                        [{\"marker\": {\"color\": \"#0343df\"}, \"name\": \"after\", \"type\": \"bar\", \"x\": [0, 1, 2, 3, 4, 5, 6, 7], \"y\": [1.0, -6.0, -5.0, -7.0, -7.3, -2.6, -2.9, -2.5]}, {\"marker\": {\"color\": \"#e50000\"}, \"name\": \"before\", \"type\": \"bar\", \"x\": [0, 1, 2, 3, 4, 5, 6, 7], \"y\": [5.9, 0.9, 1.0, 0.4, 1.6, 1.6, 1.7, 3.0]}],\n",
       "                        {\"template\": {\"data\": {\"bar\": [{\"error_x\": {\"color\": \"#2a3f5f\"}, \"error_y\": {\"color\": \"#2a3f5f\"}, \"marker\": {\"line\": {\"color\": \"#E5ECF6\", \"width\": 0.5}}, \"type\": \"bar\"}], \"barpolar\": [{\"marker\": {\"line\": {\"color\": \"#E5ECF6\", \"width\": 0.5}}, \"type\": \"barpolar\"}], \"carpet\": [{\"aaxis\": {\"endlinecolor\": \"#2a3f5f\", \"gridcolor\": \"white\", \"linecolor\": \"white\", \"minorgridcolor\": \"white\", \"startlinecolor\": \"#2a3f5f\"}, \"baxis\": {\"endlinecolor\": \"#2a3f5f\", \"gridcolor\": \"white\", \"linecolor\": \"white\", \"minorgridcolor\": \"white\", \"startlinecolor\": \"#2a3f5f\"}, \"type\": \"carpet\"}], \"choropleth\": [{\"colorbar\": {\"outlinewidth\": 0, \"ticks\": \"\"}, \"type\": \"choropleth\"}], \"contour\": [{\"colorbar\": {\"outlinewidth\": 0, \"ticks\": \"\"}, \"colorscale\": [[0.0, \"#0d0887\"], [0.1111111111111111, \"#46039f\"], [0.2222222222222222, \"#7201a8\"], [0.3333333333333333, \"#9c179e\"], [0.4444444444444444, \"#bd3786\"], [0.5555555555555556, \"#d8576b\"], [0.6666666666666666, \"#ed7953\"], [0.7777777777777778, \"#fb9f3a\"], [0.8888888888888888, \"#fdca26\"], [1.0, \"#f0f921\"]], \"type\": \"contour\"}], \"contourcarpet\": [{\"colorbar\": {\"outlinewidth\": 0, \"ticks\": \"\"}, \"type\": \"contourcarpet\"}], \"heatmap\": [{\"colorbar\": {\"outlinewidth\": 0, \"ticks\": \"\"}, \"colorscale\": [[0.0, \"#0d0887\"], [0.1111111111111111, \"#46039f\"], [0.2222222222222222, \"#7201a8\"], [0.3333333333333333, \"#9c179e\"], [0.4444444444444444, \"#bd3786\"], [0.5555555555555556, \"#d8576b\"], [0.6666666666666666, \"#ed7953\"], [0.7777777777777778, \"#fb9f3a\"], [0.8888888888888888, \"#fdca26\"], [1.0, \"#f0f921\"]], \"type\": \"heatmap\"}], \"heatmapgl\": [{\"colorbar\": {\"outlinewidth\": 0, \"ticks\": \"\"}, \"colorscale\": [[0.0, \"#0d0887\"], [0.1111111111111111, \"#46039f\"], [0.2222222222222222, \"#7201a8\"], [0.3333333333333333, \"#9c179e\"], [0.4444444444444444, \"#bd3786\"], [0.5555555555555556, \"#d8576b\"], [0.6666666666666666, \"#ed7953\"], [0.7777777777777778, \"#fb9f3a\"], [0.8888888888888888, \"#fdca26\"], [1.0, \"#f0f921\"]], \"type\": \"heatmapgl\"}], \"histogram\": [{\"marker\": {\"colorbar\": {\"outlinewidth\": 0, \"ticks\": \"\"}}, \"type\": \"histogram\"}], \"histogram2d\": [{\"colorbar\": {\"outlinewidth\": 0, \"ticks\": \"\"}, \"colorscale\": [[0.0, \"#0d0887\"], [0.1111111111111111, \"#46039f\"], [0.2222222222222222, \"#7201a8\"], [0.3333333333333333, \"#9c179e\"], [0.4444444444444444, \"#bd3786\"], [0.5555555555555556, \"#d8576b\"], [0.6666666666666666, \"#ed7953\"], [0.7777777777777778, \"#fb9f3a\"], [0.8888888888888888, \"#fdca26\"], [1.0, \"#f0f921\"]], \"type\": \"histogram2d\"}], \"histogram2dcontour\": [{\"colorbar\": {\"outlinewidth\": 0, \"ticks\": \"\"}, \"colorscale\": [[0.0, \"#0d0887\"], [0.1111111111111111, \"#46039f\"], [0.2222222222222222, \"#7201a8\"], [0.3333333333333333, \"#9c179e\"], [0.4444444444444444, \"#bd3786\"], [0.5555555555555556, \"#d8576b\"], [0.6666666666666666, \"#ed7953\"], [0.7777777777777778, \"#fb9f3a\"], [0.8888888888888888, \"#fdca26\"], [1.0, \"#f0f921\"]], \"type\": \"histogram2dcontour\"}], \"mesh3d\": [{\"colorbar\": {\"outlinewidth\": 0, \"ticks\": \"\"}, \"type\": \"mesh3d\"}], \"parcoords\": [{\"line\": {\"colorbar\": {\"outlinewidth\": 0, \"ticks\": \"\"}}, \"type\": \"parcoords\"}], \"pie\": [{\"automargin\": true, \"type\": \"pie\"}], \"scatter\": [{\"marker\": {\"colorbar\": {\"outlinewidth\": 0, \"ticks\": \"\"}}, \"type\": \"scatter\"}], \"scatter3d\": [{\"line\": {\"colorbar\": {\"outlinewidth\": 0, \"ticks\": \"\"}}, \"marker\": {\"colorbar\": {\"outlinewidth\": 0, \"ticks\": \"\"}}, \"type\": \"scatter3d\"}], \"scattercarpet\": [{\"marker\": {\"colorbar\": {\"outlinewidth\": 0, \"ticks\": \"\"}}, \"type\": \"scattercarpet\"}], \"scattergeo\": [{\"marker\": {\"colorbar\": {\"outlinewidth\": 0, \"ticks\": \"\"}}, \"type\": \"scattergeo\"}], \"scattergl\": [{\"marker\": {\"colorbar\": {\"outlinewidth\": 0, \"ticks\": \"\"}}, \"type\": \"scattergl\"}], \"scattermapbox\": [{\"marker\": {\"colorbar\": {\"outlinewidth\": 0, \"ticks\": \"\"}}, \"type\": \"scattermapbox\"}], \"scatterpolar\": [{\"marker\": {\"colorbar\": {\"outlinewidth\": 0, \"ticks\": \"\"}}, \"type\": \"scatterpolar\"}], \"scatterpolargl\": [{\"marker\": {\"colorbar\": {\"outlinewidth\": 0, \"ticks\": \"\"}}, \"type\": \"scatterpolargl\"}], \"scatterternary\": [{\"marker\": {\"colorbar\": {\"outlinewidth\": 0, \"ticks\": \"\"}}, \"type\": \"scatterternary\"}], \"surface\": [{\"colorbar\": {\"outlinewidth\": 0, \"ticks\": \"\"}, \"colorscale\": [[0.0, \"#0d0887\"], [0.1111111111111111, \"#46039f\"], [0.2222222222222222, \"#7201a8\"], [0.3333333333333333, \"#9c179e\"], [0.4444444444444444, \"#bd3786\"], [0.5555555555555556, \"#d8576b\"], [0.6666666666666666, \"#ed7953\"], [0.7777777777777778, \"#fb9f3a\"], [0.8888888888888888, \"#fdca26\"], [1.0, \"#f0f921\"]], \"type\": \"surface\"}], \"table\": [{\"cells\": {\"fill\": {\"color\": \"#EBF0F8\"}, \"line\": {\"color\": \"white\"}}, \"header\": {\"fill\": {\"color\": \"#C8D4E3\"}, \"line\": {\"color\": \"white\"}}, \"type\": \"table\"}]}, \"layout\": {\"annotationdefaults\": {\"arrowcolor\": \"#2a3f5f\", \"arrowhead\": 0, \"arrowwidth\": 1}, \"coloraxis\": {\"colorbar\": {\"outlinewidth\": 0, \"ticks\": \"\"}}, \"colorscale\": {\"diverging\": [[0, \"#8e0152\"], [0.1, \"#c51b7d\"], [0.2, \"#de77ae\"], [0.3, \"#f1b6da\"], [0.4, \"#fde0ef\"], [0.5, \"#f7f7f7\"], [0.6, \"#e6f5d0\"], [0.7, \"#b8e186\"], [0.8, \"#7fbc41\"], [0.9, \"#4d9221\"], [1, \"#276419\"]], \"sequential\": [[0.0, \"#0d0887\"], [0.1111111111111111, \"#46039f\"], [0.2222222222222222, \"#7201a8\"], [0.3333333333333333, \"#9c179e\"], [0.4444444444444444, \"#bd3786\"], [0.5555555555555556, \"#d8576b\"], [0.6666666666666666, \"#ed7953\"], [0.7777777777777778, \"#fb9f3a\"], [0.8888888888888888, \"#fdca26\"], [1.0, \"#f0f921\"]], \"sequentialminus\": [[0.0, \"#0d0887\"], [0.1111111111111111, \"#46039f\"], [0.2222222222222222, \"#7201a8\"], [0.3333333333333333, \"#9c179e\"], [0.4444444444444444, \"#bd3786\"], [0.5555555555555556, \"#d8576b\"], [0.6666666666666666, \"#ed7953\"], [0.7777777777777778, \"#fb9f3a\"], [0.8888888888888888, \"#fdca26\"], [1.0, \"#f0f921\"]]}, \"colorway\": [\"#636efa\", \"#EF553B\", \"#00cc96\", \"#ab63fa\", \"#FFA15A\", \"#19d3f3\", \"#FF6692\", \"#B6E880\", \"#FF97FF\", \"#FECB52\"], \"font\": {\"color\": \"#2a3f5f\"}, \"geo\": {\"bgcolor\": \"white\", \"lakecolor\": \"white\", \"landcolor\": \"#E5ECF6\", \"showlakes\": true, \"showland\": true, \"subunitcolor\": \"white\"}, \"hoverlabel\": {\"align\": \"left\"}, \"hovermode\": \"closest\", \"mapbox\": {\"style\": \"light\"}, \"paper_bgcolor\": \"white\", \"plot_bgcolor\": \"#E5ECF6\", \"polar\": {\"angularaxis\": {\"gridcolor\": \"white\", \"linecolor\": \"white\", \"ticks\": \"\"}, \"bgcolor\": \"#E5ECF6\", \"radialaxis\": {\"gridcolor\": \"white\", \"linecolor\": \"white\", \"ticks\": \"\"}}, \"scene\": {\"xaxis\": {\"backgroundcolor\": \"#E5ECF6\", \"gridcolor\": \"white\", \"gridwidth\": 2, \"linecolor\": \"white\", \"showbackground\": true, \"ticks\": \"\", \"zerolinecolor\": \"white\"}, \"yaxis\": {\"backgroundcolor\": \"#E5ECF6\", \"gridcolor\": \"white\", \"gridwidth\": 2, \"linecolor\": \"white\", \"showbackground\": true, \"ticks\": \"\", \"zerolinecolor\": \"white\"}, \"zaxis\": {\"backgroundcolor\": \"#E5ECF6\", \"gridcolor\": \"white\", \"gridwidth\": 2, \"linecolor\": \"white\", \"showbackground\": true, \"ticks\": \"\", \"zerolinecolor\": \"white\"}}, \"shapedefaults\": {\"line\": {\"color\": \"#2a3f5f\"}}, \"ternary\": {\"aaxis\": {\"gridcolor\": \"white\", \"linecolor\": \"white\", \"ticks\": \"\"}, \"baxis\": {\"gridcolor\": \"white\", \"linecolor\": \"white\", \"ticks\": \"\"}, \"bgcolor\": \"#E5ECF6\", \"caxis\": {\"gridcolor\": \"white\", \"linecolor\": \"white\", \"ticks\": \"\"}}, \"title\": {\"x\": 0.05}, \"xaxis\": {\"automargin\": true, \"gridcolor\": \"white\", \"linecolor\": \"white\", \"ticks\": \"\", \"title\": {\"standoff\": 15}, \"zerolinecolor\": \"white\", \"zerolinewidth\": 2}, \"yaxis\": {\"automargin\": true, \"gridcolor\": \"white\", \"linecolor\": \"white\", \"ticks\": \"\", \"title\": {\"standoff\": 15}, \"zerolinecolor\": \"white\", \"zerolinewidth\": 2}}}, \"title\": {\"text\": \"GDP during quarantine\", \"x\": 0.5}, \"xaxis\": {\"tickmode\": \"array\", \"ticktext\": [\"China\", \"Germany\", \"France\", \"Italy\", \"Spain\", \"Russia\", \"US\", \"KZ\"], \"tickvals\": [0, 1, 2, 3, 4, 5, 6, 7, 8, 9, 10, 11, 12, 13, 14, 15, 16, 17, 18, 19, 20, 21, 22, 23, 24, 25, 26]}, \"yaxis\": {\"title\": {\"text\": \"Seats\"}}},\n",
       "                        {\"responsive\": true}\n",
       "                    ).then(function(){\n",
       "                            \n",
       "var gd = document.getElementById('d97c5248-edd6-48d5-9cdb-7e6595c5113b');\n",
       "var x = new MutationObserver(function (mutations, observer) {{\n",
       "        var display = window.getComputedStyle(gd).display;\n",
       "        if (!display || display === 'none') {{\n",
       "            console.log([gd, 'removed!']);\n",
       "            Plotly.purge(gd);\n",
       "            observer.disconnect();\n",
       "        }}\n",
       "}});\n",
       "\n",
       "// Listen for the removal of the full notebook cells\n",
       "var notebookContainer = gd.closest('#notebook-container');\n",
       "if (notebookContainer) {{\n",
       "    x.observe(notebookContainer, {childList: true});\n",
       "}}\n",
       "\n",
       "// Listen for the clearing of the current output cell\n",
       "var outputEl = gd.closest('.output');\n",
       "if (outputEl) {{\n",
       "    x.observe(outputEl, {childList: true});\n",
       "}}\n",
       "\n",
       "                        })\n",
       "                };\n",
       "                });\n",
       "            </script>\n",
       "        </div>"
      ]
     },
     "metadata": {},
     "output_type": "display_data"
    }
   ],
   "source": [
    "import plotly.graph_objects as go\n",
    "countries = dataset3['Country']\n",
    "x = list(range(len(countries)))\n",
    "# Specify the plots\n",
    "bar_plots = [\n",
    "        go.Bar(x=x, y=dataset3['after'], name='after', marker=go.bar.Marker(color='#0343df')),\n",
    "        go.Bar(x=x, y=dataset3['before'], name='before', marker=go.bar.Marker(color='#e50000')),\n",
    "]\n",
    "\n",
    "    # Customise some display properties\n",
    "layout = go.Layout(\n",
    "        title=go.layout.Title(text=\"GDP during quarantine\", x=0.5),\n",
    "        yaxis_title=\"Seats\",\n",
    "        xaxis_tickmode=\"array\",\n",
    "        xaxis_tickvals=list(range(27)),\n",
    "        xaxis_ticktext=tuple(dataset3['Country'].values),\n",
    ")\n",
    "\n",
    "    # Make the multi-bar plot\n",
    "fig = go.Figure(data=bar_plots, layout=layout)\n",
    "\n",
    "    # Tell Plotly to render it\n",
    "fig.show()\n"
   ]
  },
  {
   "cell_type": "code",
   "execution_count": 60,
   "metadata": {},
   "outputs": [
    {
     "data": {
      "text/plain": [
       "Text(0.5, 1.0, 'UK election results')"
      ]
     },
     "execution_count": 60,
     "metadata": {},
     "output_type": "execute_result"
    },
    {
     "data": {
      "image/png": "[encoded data removed]",
      "text/plain": [
       "<Figure size 1440x720 with 1 Axes>"
      ]
     },
     "metadata": {
      "needs_background": "light"
     },
     "output_type": "display_data"
    }
   ],
   "source": [
    "from matplotlib.colors import ListedColormap\n",
    "cmap = ListedColormap(['#0343df', '#e50000', '#ffff14', '#929591', '#0ec7e8', \"#405e03\", '#5e3703' , '#da36e3', '#e33659' ])\n",
    "ax = dataset.plot.bar(x='Date', figsize=(20, 10),colormap=cmap)\n",
    "ax.set_xlabel(None)\n",
    "ax.set_ylabel('Seats')\n",
    "ax.set_title('UK election results')"
   ]
  },
  {
   "cell_type": "code",
   "execution_count": null,
   "metadata": {},
   "outputs": [],
   "source": []
  }
 ],
 "metadata": {
  "kernelspec": {
   "display_name": "Python 3",
   "language": "python",
   "name": "python3"
  },
  "language_info": {
   "codemirror_mode": {
    "name": "ipython",
    "version": 3
   },
   "file_extension": ".py",
   "mimetype": "text/x-python",
   "name": "python",
   "nbconvert_exporter": "python",
   "pygments_lexer": "ipython3",
   "version": "3.7.3"
  }
 },
 "nbformat": 4,
 "nbformat_minor": 2
}
